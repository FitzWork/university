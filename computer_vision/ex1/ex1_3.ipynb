{
 "cells": [
  {
   "cell_type": "markdown",
   "metadata": {},
   "source": [
    "# Aufgabe 3: Bild invertieren\n",
    "Ein weiteres Beispiel für lokale Grauwerttransformationen ist die *Invertierung* eines Grauwertbildes.\n",
    "Wenn die Grauwerte des Bildes $f_1$ auf einen Bereich $\\left[0;1\\right]$ normiert sind, wird diese Operation durch die Vorschrift\n",
    "\\begin{align}\n",
    "  f_2(x,y)&=1-f_1(x,y)\n",
    "\\end{align}\n",
    "realisiert.\n",
    "\n",
    "Schreiben Sie eine Python-Funktion, die ein Bild lädt, die Grauwerte aller Pixel invertiert und das Ergebnis am Bildschirm darstellt!"
   ]
  },
  {
   "cell_type": "markdown",
   "metadata": {},
   "source": [
    "## 0. Pfade, Pakete etc."
   ]
  },
  {
   "cell_type": "code",
   "execution_count": null,
   "metadata": {},
   "outputs": [],
   "source": [
    "import glob\n",
    "import urllib.request\n",
    "\n",
    "%matplotlib notebook\n",
    "import matplotlib.pyplot as plt\n",
    "\n",
    "import imageio\n",
    "import numpy as np"
   ]
  },
  {
   "cell_type": "code",
   "execution_count": null,
   "metadata": {},
   "outputs": [],
   "source": [
    "image_filter = 'Bilder/*.jpg'"
   ]
  },
  {
   "cell_type": "markdown",
   "metadata": {},
   "source": [
    "## 1. Laden des Bildes\n",
    "Laden Sie ein zufälliges Bild aus dem Materialordner in `image`:"
   ]
  },
  {
   "cell_type": "code",
   "execution_count": null,
   "metadata": {},
   "outputs": [],
   "source": [
    "image = imageio.imread(np.random.choice(glob.glob(image_filter)))"
   ]
  },
  {
   "cell_type": "markdown",
   "metadata": {},
   "source": [
    "## 2. Normalisieren des Bildes\n",
    "Normieren Sie die Grauwerte von `image` auf den Wertebereich $[0,1]$! Konvertieren Sie `image` zunächst in einen geeigneten Datentypen. Ermitteln Sie dann Maximum und Minimum der Grauwerte und verwenden Sie diese, um `image` zu normieren."
   ]
  },
  {
   "cell_type": "code",
   "execution_count": null,
   "metadata": {},
   "outputs": [],
   "source": [
    "image_normed = (image - np.min(image)) / (np.max(image) - np.min(image))"
   ]
  },
  {
   "cell_type": "markdown",
   "metadata": {},
   "source": [
    "## 3. Invertieren eines Bildes\n",
    "Definieren Sie eine Funktion `ex1_invert`, die die oben beschriebene Vorschrift implementiert. Dabei soll das invertierte Bild zurückgegeben werden:"
   ]
  },
  {
   "cell_type": "code",
   "execution_count": null,
   "metadata": {},
   "outputs": [],
   "source": [
    "def ex1_invert(image):\n",
    "    return 1-image"
   ]
  },
  {
   "cell_type": "markdown",
   "metadata": {},
   "source": [
    "## 4. Darstellen des Bildes"
   ]
  },
  {
   "cell_type": "markdown",
   "metadata": {},
   "source": [
    "Lassen Sie nun mit Hilfe ihrer Funktion `ex1_invert` das invertierte Bild berechnen:"
   ]
  },
  {
   "cell_type": "code",
   "execution_count": null,
   "metadata": {},
   "outputs": [],
   "source": [
    "image_inverted = ex1_invert(image_normed)"
   ]
  },
  {
   "cell_type": "markdown",
   "metadata": {},
   "source": [
    "Mit der Funktion `subplot` des Paketes `matplotlib.pyplot` können mehrere Darstellungen gleichzeitig vorgenommen werden. Stellen Sie das Originalbild und das invertierte Bild nebeneinander dar:"
   ]
  },
  {
   "cell_type": "code",
   "execution_count": null,
   "metadata": {},
   "outputs": [],
   "source": [
    "plt.subplot(1, 2, 1)\n",
    "plt.imshow(image)\n",
    "\n",
    "plt.subplot(1, 2, 2)\n",
    "plt.imshow(image_inverted)"
   ]
  }
 ],
 "metadata": {
  "kernelspec": {
   "display_name": "Python 3 (ipykernel)",
   "language": "python",
   "name": "python3"
  },
  "language_info": {
   "codemirror_mode": {
    "name": "ipython",
    "version": 3
   },
   "file_extension": ".py",
   "mimetype": "text/x-python",
   "name": "python",
   "nbconvert_exporter": "python",
   "pygments_lexer": "ipython3",
   "version": "3.9.12"
  }
 },
 "nbformat": 4,
 "nbformat_minor": 2
}
