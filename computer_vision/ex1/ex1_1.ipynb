{
 "cells": [
  {
   "cell_type": "markdown",
   "metadata": {},
   "source": [
    "# Aufgabe 1: Bild aufnehmen\n",
    "Unter der URL http://towercam.intershop.de/fullsize.jpg?camera=2 ist eine Webcam zu erreichen. Nehmen Sie mit dieser (oder einer beliebigen anderen) ein Bild auf und speichern Sie es als JPEG-Datei ab! Laden Sie dieses Bild in Python und stellen Sie es dar!"
   ]
  },
  {
   "cell_type": "markdown",
   "metadata": {},
   "source": [
    "## 0. Pfade, Pakete etc.\n",
    "Für die Aufgaben benötigen wir einige Pakete, die jeweils mit `import` importiert werden. Um die häufige Verwendung von Paketen mit langen Namen komfortabler zu machen, kann mit `as` ein Alias angegeben werden."
   ]
  },
  {
   "cell_type": "code",
   "execution_count": null,
   "metadata": {},
   "outputs": [],
   "source": [
    "import urllib.request\n",
    "\n",
    "%matplotlib widget\n",
    "import matplotlib.pyplot as plt\n",
    "\n",
    "import imageio"
   ]
  },
  {
   "cell_type": "code",
   "execution_count": null,
   "metadata": {},
   "outputs": [],
   "source": [
    "image_url = 'http://www.thueringer-webcams.de/kunden/mdr/weimar/livebild-pal.jpg'\n",
    "image_path = 'cam.jpg'"
   ]
  },
  {
   "cell_type": "markdown",
   "metadata": {},
   "source": [
    "## 1. Download des Bildes\n",
    "Mit der Funktion `urlretrieve` in `urllib.request` kann eine Datei von einer URL heruntergeladen werden. Die URL und der Zielpfad sind oben angegeben. Lesen Sie die Dokumentation zu `urlretrieve`, um die Funktion korrekt aufzurufen."
   ]
  },
  {
   "cell_type": "code",
   "execution_count": null,
   "metadata": {},
   "outputs": [],
   "source": [
    "urllib.request.urlretrieve(image_url, image_path)"
   ]
  },
  {
   "cell_type": "markdown",
   "metadata": {},
   "source": [
    "# 2. Laden des Bildes\n",
    "Verwenden Sie eine Funktion des bereits importierten Pakets `imageio`, um das Bild in eine Variable zu laden."
   ]
  },
  {
   "cell_type": "code",
   "execution_count": null,
   "metadata": {},
   "outputs": [],
   "source": [
    "image = imageio.imread(image_path)"
   ]
  },
  {
   "cell_type": "markdown",
   "metadata": {},
   "source": [
    "## 3. Darstellen des Bildes\n",
    "Informieren Sie sich über die Funktionen im Namensraum `matplotlib.pyplot`, um das geladene Bild anzuzeigen. Achtung: hier wurde dieser Namensraum als `plt` importiert!"
   ]
  },
  {
   "cell_type": "code",
   "execution_count": null,
   "metadata": {},
   "outputs": [],
   "source": [
    "plt.imshow(image)"
   ]
  },
  {
   "cell_type": "markdown",
   "metadata": {},
   "source": [
    "# Igonrieren!!!\n",
    "Ist nur für mich zum printen"
   ]
  },
  {
   "cell_type": "code",
   "execution_count": null,
   "metadata": {},
   "outputs": [],
   "source": [
    "fig = plt.figure()\n",
    "sp = fig.add_subplot()\n",
    "sp.imshow(image)\n",
    "plt.savefig(\"out.png\")"
   ]
  }
 ],
 "metadata": {
  "kernelspec": {
   "display_name": "Python 3.10.8 ('venv': venv)",
   "language": "python",
   "name": "python3"
  },
  "language_info": {
   "codemirror_mode": {
    "name": "ipython",
    "version": 3
   },
   "file_extension": ".py",
   "mimetype": "text/x-python",
   "name": "python",
   "nbconvert_exporter": "python",
   "pygments_lexer": "ipython3",
   "version": "3.10.8"
  },
  "vscode": {
   "interpreter": {
    "hash": "850fc2065b1f836188b68ddbe85307aa686ce2d293b6c2c9ab6fb88911197b67"
   }
  }
 },
 "nbformat": 4,
 "nbformat_minor": 2
}
