{
 "cells": [
  {
   "cell_type": "markdown",
   "metadata": {},
   "source": [
    "# Aufgabe 2: Hoch- und Tiefpassfilter\n",
    "Hochpass- und Tiefpassfilter im Frequenzbereich erlauben Kantenextraktion bzw. Glättung von Bildern, analog zu Faltungen im Ortsbereich.\n",
    "Dazu werden im fouriertransformierten Bild alle Fourierkoeffizienten innerhalb (idealer Hochpassfilter) bzw. außerhalb (idealer Tiefpassfilter) eines Radius $D_0$ um den Bildmittelpunkt auf $0$ gesetzt.\n",
    "\n",
    "Verwenden Sie die von `numpy.fft` bereitgestellte Funktionalität zur Berechnung der Fouriertransformation eines Bildes!\n",
    "Wenden Sie im Frequenzraum jeweils einen idealen Hochpass- und einen idealen Tiefpassfilter an!\n",
    "Transformieren Sie das veränderte Spektrum zurück in den Ortsbereich (`ifftshift`, `ifft2`) und interpretieren Sie die Ergebnisse!"
   ]
  },
  {
   "cell_type": "markdown",
   "metadata": {},
   "source": [
    "## 0. Pfade, Pakete etc."
   ]
  },
  {
   "cell_type": "code",
   "execution_count": null,
   "metadata": {},
   "outputs": [],
   "source": [
    "import glob\n",
    "import imageio\n",
    "import numpy as np\n",
    "\n",
    "%matplotlib inline\n",
    "import matplotlib.pyplot as plt"
   ]
  },
  {
   "cell_type": "code",
   "execution_count": null,
   "metadata": {},
   "outputs": [],
   "source": [
    "image_filter = 'Bilder/*.jpg'"
   ]
  },
  {
   "cell_type": "markdown",
   "metadata": {},
   "source": [
    "## 1. Definition des Filters"
   ]
  },
  {
   "cell_type": "markdown",
   "metadata": {},
   "source": [
    "Definieren Sie den Filter als binärwertige Funktion in Abhängigkeit vom Radius $D$ und der Konstante $D_0$."
   ]
  },
  {
   "cell_type": "code",
   "execution_count": null,
   "metadata": {},
   "outputs": [],
   "source": [
    "D0 = 20\n",
    "lowpass_filter = lambda D: int(D<=D0)\n",
    "highpass_filter = lambda D: int(D>D0)"
   ]
  },
  {
   "cell_type": "markdown",
   "metadata": {},
   "source": [
    "## 2. Laden und Normalisieren des Bildes"
   ]
  },
  {
   "cell_type": "code",
   "execution_count": null,
   "metadata": {},
   "outputs": [],
   "source": [
    "image_path = np.random.choice(glob.glob(image_filter))\n",
    "image = imageio.imread(image_path)"
   ]
  },
  {
   "cell_type": "code",
   "execution_count": null,
   "metadata": {},
   "outputs": [],
   "source": [
    "image = image.astype(np.float32)\n",
    "image -= image.min()\n",
    "image /= image.max()"
   ]
  },
  {
   "cell_type": "markdown",
   "metadata": {},
   "source": [
    "## 3. Berechnung der Fouriertransformation\n",
    "Berechnen Sie nun die Fouriertransformation von `image`, indem Sie die entsprechende Funktion aus `numpy.fft` verwenden. Achten Sie darauf, das Spektrum zu zentrieren!"
   ]
  },
  {
   "cell_type": "code",
   "execution_count": null,
   "metadata": {},
   "outputs": [],
   "source": [
    "image_transformed = np.fft.fftshift(np.fft.fft2(image))"
   ]
  },
  {
   "cell_type": "markdown",
   "metadata": {},
   "source": [
    "## 4. Filterung"
   ]
  },
  {
   "cell_type": "markdown",
   "metadata": {},
   "source": [
    "Definieren Sie nun eine Funktion `ex3_filter_spectrum`, die einen gegebenen radiusabhängigen Filter auf ein bereits Fouriertransformiertes Bild anwendet:"
   ]
  },
  {
   "cell_type": "code",
   "execution_count": null,
   "metadata": {},
   "outputs": [],
   "source": [
    "def ex3_filter_spectrum(spectrum, radial_filter):\n",
    "    copy_spectrum = spectrum.copy()\n",
    "    y, x = image.shape\n",
    "\n",
    "    for v in range(y):\n",
    "        for u in range(x):\n",
    "            D = np.sqrt((v-y/2)**2 + (u-x/2)**2)\n",
    "            copy_spectrum[v,u] *= radial_filter(D)\n",
    "\n",
    "    return copy_spectrum"
   ]
  },
  {
   "cell_type": "markdown",
   "metadata": {},
   "source": [
    "Das transformierte Bild (Spektrum) wird nun gefiltert:"
   ]
  },
  {
   "cell_type": "code",
   "execution_count": null,
   "metadata": {},
   "outputs": [],
   "source": [
    "image_transformed_lowpass = ex3_filter_spectrum(image_transformed, lowpass_filter)\n",
    "image_transformed_highpass = ex3_filter_spectrum(image_transformed, highpass_filter)"
   ]
  },
  {
   "cell_type": "markdown",
   "metadata": {},
   "source": [
    "## 5. Inverse Filterung\n",
    "Das veränderte Spektrum soll nun in den Ortsbereich zurücktransformiert werden. Verwenden Sie dazu die entsprechenden Funktionen des Paketes `numpy.fft`."
   ]
  },
  {
   "cell_type": "code",
   "execution_count": null,
   "metadata": {},
   "outputs": [],
   "source": [
    "image_filter_lowpass = np.fft.ifft2(np.fft.ifftshift(image_transformed_lowpass)).real\n",
    "image_filter_highpass = np.fft.ifft2(np.fft.ifftshift(image_transformed_highpass)).real"
   ]
  },
  {
   "cell_type": "markdown",
   "metadata": {},
   "source": [
    "Vergleichen Sie nun das gefilterte Bild mit dem Originalbild:"
   ]
  },
  {
   "cell_type": "code",
   "execution_count": null,
   "metadata": {},
   "outputs": [],
   "source": [
    "plt.figure(figsize=(12, 6))\n",
    "plt.subplot(1,3,1, title='Original Image')\n",
    "plt.imshow(image, cmap='gray', vmin=0, vmax=1)\n",
    "plt.subplot(1,3,2, title='Ideal Lowpass')\n",
    "plt.imshow(image_filter_lowpass, cmap='gray', vmin=0, vmax=1)\n",
    "plt.subplot(1,3,3, title='Ideal Highpass')\n",
    "plt.imshow(image_filter_highpass, cmap='gray')\n",
    "plt.show()"
   ]
  }
 ],
 "metadata": {
  "kernelspec": {
   "display_name": "Python 3.10.8 ('.venv': venv)",
   "language": "python",
   "name": "python3"
  },
  "language_info": {
   "codemirror_mode": {
    "name": "ipython",
    "version": 3
   },
   "file_extension": ".py",
   "mimetype": "text/x-python",
   "name": "python",
   "nbconvert_exporter": "python",
   "pygments_lexer": "ipython3",
   "version": "3.10.8"
  },
  "vscode": {
   "interpreter": {
    "hash": "09815540e75ffacea1ab33f4edc4f4b9d486573f09617b1bb10d2505d5d9ce1b"
   }
  }
 },
 "nbformat": 4,
 "nbformat_minor": 2
}
