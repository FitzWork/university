{
 "cells": [
  {
   "cell_type": "markdown",
   "metadata": {},
   "source": [
    "# Aufgabe 1: Fourier-Spektrum\n",
    "\n",
    "Die zweidimensionale diskrete Fourier-Transformation $\\mathcal{F}: \\mathbb{R}^{W \\times H} \\rightarrow \\mathbb{C}^{W \\times H}$ überführt ein Bild in eine alternative Repräsentation, in der es als Überlagerung von Sinus- und Kosinusfunktionen unterschiedlicher Frequenz dargestellt wird:\n",
    "\n",
    "$$\n",
    "    \\mathcal{F}(I)(u, v) = \\sum_{x=0}^{W-1} \\sum_{y=0}^{H-1} I(x, y) \\cdot \\exp\\biggl(-2 \\pi i \\Bigl(\\frac{ux}{W} + \\frac{vy}{H}\\Bigr)\\biggr) \\,.\n",
    "$$\n",
    "\n",
    "Zur kompakten Schreibweise der Sinus- und Kosinusfunktionen dient dabei die Eulersche Formel:\n",
    "\n",
    "$$\n",
    "    \\exp(i \\cdot \\varphi) = \\cos(\\varphi) + i \\cdot \\sin(\\varphi) \\,.\n",
    "$$\n",
    "\n",
    "Das Ergebnis $\\mathcal{F}(I)(u, v)$ ist eine Funktion über dem Raum der komplexen Zahlen, welche die Amplitude und Phase einer Welle mit horizontaler Frequenz $u$ und vertikaler Frequenz $v$ kodieren.\n",
    "Der Betrag (auch *Magnitude*) dieser Fourier-Koeffizienten entspricht dabei der Amplitude der Welle und das Argument (Winkel zwischen den Koeffizienten) entspricht der Phase.\n",
    "\n",
    "Verwenden Sie `numpy.fft.fft2` zur Berechnung der Fouriertransformation eines Bildes!\n",
    "Danach befindet sich das Zentrum $\\mathcal{F}(I)(0, 0)$ des Fourier-Spektrums in der linken oberen Ecke des transformierten Bildes.\n",
    "Nutzen Sie daher `numpy.fft.fftshift`, um das Zentrum in den Bildmittelpunkt zu verschieben und stellen Sie sowohl Magnitude als auch Phase des Spektrums graphisch dar!\n",
    "Da die Magnitude üblicherweise vom Koeffizienten $(0, 0)$ dominiert wird, sollte vor der Darstellung die Grauwerttransformation $x \\mapsto \\log(1+x)$ zur Kontrastverbesserung angewandt werden."
   ]
  },
  {
   "cell_type": "markdown",
   "metadata": {},
   "source": [
    "## 0. Pfade, Pakete etc."
   ]
  },
  {
   "cell_type": "code",
   "execution_count": null,
   "metadata": {},
   "outputs": [],
   "source": [
    "import glob\n",
    "import imageio\n",
    "import numpy as np\n",
    "\n",
    "%matplotlib inline\n",
    "import matplotlib.pyplot as plt"
   ]
  },
  {
   "cell_type": "code",
   "execution_count": null,
   "metadata": {},
   "outputs": [],
   "source": [
    "image_filter = '../Bilder/*.jpg'"
   ]
  },
  {
   "cell_type": "markdown",
   "metadata": {},
   "source": [
    "## 1. Laden und Normalisieren des Bildes"
   ]
  },
  {
   "cell_type": "code",
   "execution_count": null,
   "metadata": {},
   "outputs": [],
   "source": [
    "image_path = np.random.choice(glob.glob(image_filter))\n",
    "image = imageio.imread(image_path)"
   ]
  },
  {
   "cell_type": "code",
   "execution_count": null,
   "metadata": {},
   "outputs": [],
   "source": [
    "image = image.astype(np.float32)\n",
    "image -= image.min()\n",
    "image /= image.max()"
   ]
  },
  {
   "cell_type": "markdown",
   "metadata": {},
   "source": [
    "## 2. Berechnung der Fouriertransformation\n",
    "Berechnen Sie nun die Fouriertransformation von `image`, indem Sie die entsprechende Funktion aus `numpy.fft` verwenden. Achten Sie darauf, das Spektrum zu zentrieren!"
   ]
  },
  {
   "cell_type": "code",
   "execution_count": null,
   "metadata": {},
   "outputs": [],
   "source": [
    "image_transformed = np.fft.fftshift(np.fft.fft2(image))"
   ]
  },
  {
   "cell_type": "markdown",
   "metadata": {},
   "source": [
    "## 3. Darstellung\n",
    "\n",
    "Stellen Sie nun das Originalbild sowie Magnitude und Phase des Fourier-Spektrums graphisch dar.\n",
    "\n",
    "Denken Sie daran, vor der Darstellung des Fourier-Spektrums die Grauwerttransformation $x \\mapsto \\log(1+x)$ anzuwenden."
   ]
  },
  {
   "cell_type": "code",
   "execution_count": null,
   "metadata": {},
   "outputs": [],
   "source": [
    "image_transformed = np.log(1+image_transformed)\n",
    "\n",
    "plt.figure('Convolution: image comparison', figsize=(12, 6))\n",
    "plt.subplot(1,3,1, title='Original Image')\n",
    "plt.imshow(image, cmap='gray', vmin=0, vmax=1)\n",
    "plt.subplot(1,3,2, title='Magnitude of Image')\n",
    "plt.imshow(np.absolute(image_transformed))\n",
    "plt.subplot(1,3,3, title='Phase of Image')\n",
    "plt.imshow(np.angle(image_transformed))\n",
    "plt.show()"
   ]
  }
 ],
 "metadata": {
  "kernelspec": {
   "display_name": "Python 3.10.7 ('.venv': venv)",
   "language": "python",
   "name": "python3"
  },
  "language_info": {
   "codemirror_mode": {
    "name": "ipython",
    "version": 3
   },
   "file_extension": ".py",
   "mimetype": "text/x-python",
   "name": "python",
   "nbconvert_exporter": "python",
   "pygments_lexer": "ipython3",
   "version": "3.10.7"
  },
  "vscode": {
   "interpreter": {
    "hash": "ceae0f456dc4cf1462e9d3fba414561a0c1d2965428cc7089308c9cecc7c1978"
   }
  }
 },
 "nbformat": 4,
 "nbformat_minor": 2
}
