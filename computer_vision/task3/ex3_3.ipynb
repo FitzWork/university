{
 "cells": [
  {
   "cell_type": "markdown",
   "metadata": {},
   "source": [
    "# Aufgabe 3: Gaußfilter\n",
    "Anstatt wie in der vorigen Aufgabe an einer ausgewählten Frequenz hart abzuschneiden, kann mittels eines Faktors\n",
    "\\begin{align}\n",
    " h(u,v) = \\mathrm{e}^{-\\frac{D^2(u,v)}{2\\sigma^2}},\\qquad h \\in [0;1]\n",
    "\\end{align}\n",
    "auch ein weicher Übergang erzeugt werden.\n",
    "\n",
    "Verwenden Sie eine Gauß-Glocke für die Hoch- und Tiefpassfilterung und berechnen Sie den Faktor $h$ in Abhängigkeit von der Entfernung $D(u,v)$ zum Ursprung!\n",
    "Führen Sie die Transformationen ansonsten wie in Teilaufgabe 2 durch! Die Varianz $\\sigma$ der Gauß-Glocke ist mit dem dort gegebenen Radius gleichzusetzen.\n",
    "Was ändert sich in den Ausgabebildern im Vergleich zu Teilaufgabe 2?"
   ]
  },
  {
   "cell_type": "markdown",
   "metadata": {},
   "source": [
    "## 0. Pfade, Pakete etc."
   ]
  },
  {
   "cell_type": "code",
   "execution_count": null,
   "metadata": {},
   "outputs": [],
   "source": [
    "import glob\n",
    "import imageio\n",
    "import numpy as np\n",
    "import math\n",
    "\n",
    "%matplotlib inline\n",
    "import matplotlib.pyplot as plt"
   ]
  },
  {
   "cell_type": "code",
   "execution_count": null,
   "metadata": {},
   "outputs": [],
   "source": [
    "image_filter = '../Bilder/*.jpg'"
   ]
  },
  {
   "cell_type": "markdown",
   "metadata": {},
   "source": [
    "## 1. Definition des Filters"
   ]
  },
  {
   "cell_type": "markdown",
   "metadata": {},
   "source": [
    "Übernehmen Sie hier zu Vergleichszwecken Ihre Definition des idealen Hoch- und Tiefpass-Filters aus der vorigen Aufgabe:"
   ]
  },
  {
   "cell_type": "code",
   "execution_count": null,
   "metadata": {},
   "outputs": [],
   "source": [
    "D0 = 20\n",
    "lowpass_filter = lambda D: 1 if D<=D0 else 0\n",
    "highpass_filter = lambda D: 1 if D>D0 else 0"
   ]
  },
  {
   "cell_type": "markdown",
   "metadata": {},
   "source": [
    "Definieren Sie den Gauß-Filter als Funktion des Radius $D$ und der Konstante $\\sigma$:"
   ]
  },
  {
   "cell_type": "code",
   "execution_count": null,
   "metadata": {},
   "outputs": [],
   "source": [
    "sigma = 20\n",
    "gauss_lowpass = lambda D: np.exp(-D**2/(2*sigma*sigma))\n",
    "gauss_highpass = lambda D: 1-np.exp(-D**2/(2*sigma*sigma))"
   ]
  },
  {
   "cell_type": "markdown",
   "metadata": {},
   "source": [
    "## 2. Laden und Normalisieren des Bildes"
   ]
  },
  {
   "cell_type": "code",
   "execution_count": null,
   "metadata": {},
   "outputs": [],
   "source": [
    "image_path = np.random.choice(glob.glob(image_filter))\n",
    "image = imageio.imread(image_path)"
   ]
  },
  {
   "cell_type": "code",
   "execution_count": null,
   "metadata": {},
   "outputs": [],
   "source": [
    "image = image.astype(np.float32)\n",
    "image -= image.min()\n",
    "image /= image.max()"
   ]
  },
  {
   "cell_type": "markdown",
   "metadata": {},
   "source": [
    "## 3. Berechnung der Fouriertransformation\n",
    "Setzen Sie hier ihre Lösung aus der vorigen Aufgabe ein:"
   ]
  },
  {
   "cell_type": "code",
   "execution_count": null,
   "metadata": {},
   "outputs": [],
   "source": [
    "image_transformed = np.fft.fftshift(np.fft.fft2(image))"
   ]
  },
  {
   "cell_type": "markdown",
   "metadata": {},
   "source": [
    "## 4. Filterung"
   ]
  },
  {
   "cell_type": "markdown",
   "metadata": {},
   "source": [
    "Setzen Sie hier ihre Lösung `ex3_filter_spectrum` aus der vorigen Aufgabe ein:"
   ]
  },
  {
   "cell_type": "code",
   "execution_count": null,
   "metadata": {},
   "outputs": [],
   "source": [
    "def ex3_filter_spectrum(spectrum, radial_filter):\n",
    "    H = np.zeros(np.shape(image))\n",
    "    y,x = np.shape(image)\n",
    "    for v in range(y):\n",
    "        for u in range(x):\n",
    "            D = np.sqrt((v-y/2)**2 + (u-x/2)**2)\n",
    "            H[v,u]=radial_filter(D)\n",
    "\n",
    "    spectrum = spectrum * H\n",
    "    return spectrum"
   ]
  },
  {
   "cell_type": "markdown",
   "metadata": {},
   "source": [
    "Das transformierte Bild (Spektrum) wird nun gefiltert:"
   ]
  },
  {
   "cell_type": "code",
   "execution_count": null,
   "metadata": {},
   "outputs": [],
   "source": [
    "image_transformed_lowpass = ex3_filter_spectrum(image_transformed, lowpass_filter)\n",
    "image_transformed_highpass = ex3_filter_spectrum(image_transformed, highpass_filter)\n",
    "image_transformed_gauss_lowpass = ex3_filter_spectrum(image_transformed, gauss_lowpass)\n",
    "image_transformed_gauss_highpass = ex3_filter_spectrum(image_transformed, gauss_highpass)"
   ]
  },
  {
   "cell_type": "markdown",
   "metadata": {},
   "source": [
    "## 5. Inverse Filterung\n",
    "Das veränderte Spektrum soll nun in den Ortsbereich zurücktransformiert werden. Verwenden Sie dazu die entsprechenden Funktionen des Paketes `numpy.fft`."
   ]
  },
  {
   "cell_type": "code",
   "execution_count": null,
   "metadata": {},
   "outputs": [],
   "source": [
    "image_filter_lowpass = np.abs(np.fft.ifft2(np.fft.ifftshift(image_transformed_lowpass)))\n",
    "image_filter_highpass = np.abs(np.fft.ifft2(np.fft.ifftshift(image_transformed_highpass)))\n",
    "image_filter_gauss_lowpass = np.abs(np.fft.ifft2(np.fft.ifftshift(image_transformed_gauss_lowpass)))\n",
    "image_filter_gauss_highpass = np.abs(np.fft.ifft2(np.fft.ifftshift(image_transformed_gauss_highpass)))"
   ]
  },
  {
   "cell_type": "markdown",
   "metadata": {},
   "source": [
    "Vergleichen Sie nun die Ergebnisses des idealen Hoch- und Tiefpassfilters mit den Gauß-Filtern:"
   ]
  },
  {
   "cell_type": "code",
   "execution_count": null,
   "metadata": {},
   "outputs": [],
   "source": [
    "plt.figure('Convolution: image comparison', figsize=(12, 6))\n",
    "plt.subplot(1,4,1, title='Lowpassed Image')\n",
    "plt.imshow(image_filter_lowpass, cmap='gray', vmin=0, vmax=1)\n",
    "plt.subplot(1,4,2, title='Highpassed Image')\n",
    "plt.imshow(image_filter_highpass, cmap='gray', vmin=0, vmax=1)\n",
    "plt.subplot(1,4,3, title='Gauss Lowpassed Image')\n",
    "plt.imshow(image_filter_gauss_lowpass, cmap='gray', vmin=0, vmax=1)\n",
    "plt.subplot(1,4,4, title='Gauss Highpassed Image')\n",
    "plt.imshow(image_filter_gauss_highpass, cmap='gray', vmin=0, vmax=1)\n",
    "plt.show()"
   ]
  },
  {
   "cell_type": "markdown",
   "metadata": {},
   "source": [
    "### Welche Unterschiede lassen sich im Vergleich zu Aufgabe 2 feststellen?"
   ]
  },
  {
   "cell_type": "markdown",
   "metadata": {},
   "source": [
    "Die Bilder sind smoother"
   ]
  }
 ],
 "metadata": {
  "kernelspec": {
   "display_name": "Python 3.10.7 ('.venv': venv)",
   "language": "python",
   "name": "python3"
  },
  "language_info": {
   "codemirror_mode": {
    "name": "ipython",
    "version": 3
   },
   "file_extension": ".py",
   "mimetype": "text/x-python",
   "name": "python",
   "nbconvert_exporter": "python",
   "pygments_lexer": "ipython3",
   "version": "3.10.7"
  },
  "vscode": {
   "interpreter": {
    "hash": "ceae0f456dc4cf1462e9d3fba414561a0c1d2965428cc7089308c9cecc7c1978"
   }
  }
 },
 "nbformat": 4,
 "nbformat_minor": 2
}
