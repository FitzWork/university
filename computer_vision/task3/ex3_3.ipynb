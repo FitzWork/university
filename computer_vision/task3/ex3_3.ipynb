{
 "cells": [
  {
   "cell_type": "markdown",
   "metadata": {},
   "source": [
    "# Aufgabe 3: Gaußfilter\n",
    "Anstatt wie in der vorigen Aufgabe an einer ausgewählten Frequenz hart abzuschneiden, kann mittels eines Faktors\n",
    "\\begin{align}\n",
    " h(u,v) = \\mathrm{e}^{-\\frac{D^2(u,v)}{2\\sigma^2}},\\qquad h \\in [0;1]\n",
    "\\end{align}\n",
    "auch ein weicher Übergang erzeugt werden.\n",
    "\n",
    "Verwenden Sie eine Gauß-Glocke für die Hoch- und Tiefpassfilterung und berechnen Sie den Faktor $h$ in Abhängigkeit von der Entfernung $D(u,v)$ zum Ursprung!\n",
    "Führen Sie die Transformationen ansonsten wie in Teilaufgabe 2 durch! Die Varianz $\\sigma$ der Gauß-Glocke ist mit dem dort gegebenen Radius gleichzusetzen.\n",
    "Was ändert sich in den Ausgabebildern im Vergleich zu Teilaufgabe 2?"
   ]
  },
  {
   "cell_type": "markdown",
   "metadata": {},
   "source": [
    "## 0. Pfade, Pakete etc."
   ]
  },
  {
   "cell_type": "code",
   "execution_count": null,
   "metadata": {},
   "outputs": [],
   "source": [
    "import glob\n",
    "import imageio\n",
    "import numpy as np\n",
    "import math\n",
    "\n",
    "%matplotlib inline\n",
    "import matplotlib.pyplot as plt"
   ]
  },
  {
   "cell_type": "code",
   "execution_count": null,
   "metadata": {},
   "outputs": [],
   "source": [
    "image_filter = 'Bilder/*.jpg'"
   ]
  },
  {
   "cell_type": "markdown",
   "metadata": {},
   "source": [
    "## 1. Definition des Filters"
   ]
  },
  {
   "cell_type": "markdown",
   "metadata": {},
   "source": [
    "Übernehmen Sie hier zu Vergleichszwecken Ihre Definition des idealen Hoch- und Tiefpass-Filters aus der vorigen Aufgabe:"
   ]
  },
  {
   "cell_type": "code",
   "execution_count": null,
   "metadata": {},
   "outputs": [],
   "source": [
    "D0 = 20\n",
    "lowpass_filter = lambda D: int(D <= D0)\n",
    "highpass_filter = lambda D: int(D > D0)"
   ]
  },
  {
   "cell_type": "markdown",
   "metadata": {},
   "source": [
    "Definieren Sie den Gauß-Filter als Funktion des Radius $D$ und der Konstante $\\sigma$:"
   ]
  },
  {
   "cell_type": "code",
   "execution_count": null,
   "metadata": {},
   "outputs": [],
   "source": [
    "sigma = 20\n",
    "gauss_lowpass = lambda D: np.exp(-D**2/(2*sigma**2))\n",
    "gauss_highpass = lambda D: 1-np.exp(-D**2/(2*sigma**2))"
   ]
  },
  {
   "cell_type": "markdown",
   "metadata": {},
   "source": [
    "## 2. Laden und Normalisieren des Bildes"
   ]
  },
  {
   "cell_type": "code",
   "execution_count": null,
   "metadata": {},
   "outputs": [],
   "source": [
    "image_path = np.random.choice(glob.glob(image_filter))\n",
    "image = imageio.imread(image_path)"
   ]
  },
  {
   "cell_type": "code",
   "execution_count": null,
   "metadata": {},
   "outputs": [],
   "source": [
    "image = image.astype(np.float32)\n",
    "image -= image.min()\n",
    "image /= image.max()"
   ]
  },
  {
   "cell_type": "markdown",
   "metadata": {},
   "source": [
    "## 3. Berechnung der Fouriertransformation\n",
    "Setzen Sie hier ihre Lösung aus der vorigen Aufgabe ein:"
   ]
  },
  {
   "cell_type": "code",
   "execution_count": null,
   "metadata": {},
   "outputs": [],
   "source": [
    "image_transformed = np.fft.fftshift(np.fft.fft2(image))"
   ]
  },
  {
   "cell_type": "markdown",
   "metadata": {},
   "source": [
    "## 4. Filterung"
   ]
  },
  {
   "cell_type": "markdown",
   "metadata": {},
   "source": [
    "Setzen Sie hier ihre Lösung `ex3_filter_spectrum` aus der vorigen Aufgabe ein:"
   ]
  },
  {
   "cell_type": "code",
   "execution_count": null,
   "metadata": {},
   "outputs": [],
   "source": [
    "def ex3_filter_spectrum(spectrum, radial_filter):\n",
    "    spectrum_copy = spectrum.copy()\n",
    "    y, x = image.shape\n",
    "\n",
    "    for v in range(y):\n",
    "        for u in range(x):\n",
    "            D = np.sqrt((v-y/2)**2 + (u-x/2)**2)\n",
    "            spectrum_copy[v,u] *= radial_filter(D)\n",
    "\n",
    "    return spectrum_copy"
   ]
  },
  {
   "cell_type": "markdown",
   "metadata": {},
   "source": [
    "Das transformierte Bild (Spektrum) wird nun gefiltert:"
   ]
  },
  {
   "cell_type": "code",
   "execution_count": null,
   "metadata": {},
   "outputs": [],
   "source": [
    "image_transformed_lowpass = ex3_filter_spectrum(image_transformed, lowpass_filter)\n",
    "image_transformed_highpass = ex3_filter_spectrum(image_transformed, highpass_filter)\n",
    "image_transformed_gauss_lowpass = ex3_filter_spectrum(image_transformed, gauss_lowpass)\n",
    "image_transformed_gauss_highpass = ex3_filter_spectrum(image_transformed, gauss_highpass)"
   ]
  },
  {
   "cell_type": "markdown",
   "metadata": {},
   "source": [
    "## 5. Inverse Filterung\n",
    "Das veränderte Spektrum soll nun in den Ortsbereich zurücktransformiert werden. Verwenden Sie dazu die entsprechenden Funktionen des Paketes `numpy.fft`."
   ]
  },
  {
   "cell_type": "code",
   "execution_count": null,
   "metadata": {},
   "outputs": [],
   "source": [
    "image_filter_lowpass = np.fft.ifft2(np.fft.ifftshift(image_transformed_lowpass)).real\n",
    "image_filter_highpass = np.fft.ifft2(np.fft.ifftshift(image_transformed_highpass)).real\n",
    "image_filter_gauss_lowpass = np.fft.ifft2(np.fft.ifftshift(image_transformed_gauss_lowpass)).real\n",
    "image_filter_gauss_highpass = np.fft.ifft2(np.fft.ifftshift(image_transformed_gauss_highpass)).real"
   ]
  },
  {
   "cell_type": "markdown",
   "metadata": {},
   "source": [
    "Vergleichen Sie nun die Ergebnisses des idealen Hoch- und Tiefpassfilters mit den Gauß-Filtern:"
   ]
  },
  {
   "cell_type": "code",
   "execution_count": null,
   "metadata": {},
   "outputs": [],
   "source": [
    "plt.figure(figsize=(8, 12))\n",
    "plt.subplot(3,2,1, title='Original Image')\n",
    "plt.imshow(image, cmap='gray', vmin=0, vmax=1)\n",
    "plt.subplot(3,2,3, title='Lowpass')\n",
    "plt.ylabel('Ideal')\n",
    "plt.imshow(image_filter_lowpass, cmap='gray', vmin=0, vmax=1)\n",
    "plt.subplot(3,2,4, title='Highpass')\n",
    "plt.imshow(image_filter_highpass, cmap='gray')\n",
    "plt.subplot(3,2,5)\n",
    "plt.ylabel('Gauss')\n",
    "plt.imshow(image_filter_gauss_lowpass, cmap='gray', vmin=0, vmax=1)\n",
    "plt.subplot(3,2,6)\n",
    "plt.imshow(image_filter_gauss_highpass, cmap='gray')\n",
    "plt.show()"
   ]
  },
  {
   "cell_type": "markdown",
   "metadata": {},
   "source": [
    "### Welche Unterschiede lassen sich im Vergleich zu Aufgabe 2 feststellen?"
   ]
  },
  {
   "cell_type": "markdown",
   "metadata": {},
   "source": [
    "Zwischen den niedrigen Frequenzen, die wir durchlassen und den hohen, die wir raus schneiden ist im Ideal Filter eine scharfe Kante. Diese verursacht bei der Rück-Transformation hohe wellenartige Frequenzen.\n",
    "Wo hingegen der Gauss-Filtern nach der Rück-Transformation immernoch wie ein Gauss-Filter aussieht."
   ]
  },
  {
   "cell_type": "code",
   "execution_count": null,
   "metadata": {},
   "outputs": [],
   "source": [
    "y, x = image.shape\n",
    "gauss_mask_transformed = image.copy()\n",
    "ideal_mask_transformed = image.copy()\n",
    "\n",
    "for v in range(y):\n",
    "    for u in range(x):\n",
    "        D = np.sqrt((v-y/2)**2 + (u-x/2)**2)\n",
    "        ideal_mask_transformed[v,u] = lowpass_filter(D)\n",
    "        gauss_mask_transformed[v,u] = gauss_lowpass(D)\n",
    "\n",
    "\n",
    "plt.figure(figsize=(10, 10))\n",
    "plt.subplot(2,2,1, title='Frequenzbereich')\n",
    "plt.ylabel('Ideal')\n",
    "plt.imshow(ideal_mask_transformed)\n",
    "plt.subplot(2,2,2, title='Ortsbereich')\n",
    "plt.imshow(np.fft.fftshift(np.fft.ifft2(np.fft.ifftshift(ideal_mask_transformed))).real)\n",
    "plt.subplot(2,2,3)\n",
    "plt.ylabel('Gauss')\n",
    "plt.imshow(gauss_mask_transformed)\n",
    "plt.subplot(2,2,4)\n",
    "plt.imshow(np.fft.fftshift(np.fft.ifft2(np.fft.ifftshift(gauss_mask_transformed))).real)\n",
    "plt.show()"
   ]
  }
 ],
 "metadata": {
  "kernelspec": {
   "display_name": "Python 3.10.8 ('.venv': venv)",
   "language": "python",
   "name": "python3"
  },
  "language_info": {
   "codemirror_mode": {
    "name": "ipython",
    "version": 3
   },
   "file_extension": ".py",
   "mimetype": "text/x-python",
   "name": "python",
   "nbconvert_exporter": "python",
   "pygments_lexer": "ipython3",
   "version": "3.10.8"
  },
  "vscode": {
   "interpreter": {
    "hash": "09815540e75ffacea1ab33f4edc4f4b9d486573f09617b1bb10d2505d5d9ce1b"
   }
  }
 },
 "nbformat": 4,
 "nbformat_minor": 2
}
