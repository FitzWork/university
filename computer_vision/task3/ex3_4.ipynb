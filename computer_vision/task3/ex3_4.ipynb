{
 "cells": [
  {
   "cell_type": "markdown",
   "metadata": {},
   "source": [
    "# Aufgabe 4: Faltungstheorem\n",
    "Das Faltungstheorem\n",
    "\\begin{align}\n",
    " F * G &= \\mathcal{F}^{-1}(\\mathcal{F}(F) \\cdot \\mathcal{F}(G))\n",
    "\\end{align}\n",
    "\n",
    "besagt, dass eine Faltung im Ortsraum äquivalent zu einer Multiplikation im Frequenzraum ist.\n",
    "Prüfen Sie die Gültigkeit dieses Theorems an mindestens zwei praktischen Beispielen mit selbst gewählten Filtermasken!\n",
    "Vergleichen und analysieren Sie sowohl die Ergebnisse als auch die Rechenzeiten im Hinblick auf verschiedene Filtergrößen!"
   ]
  },
  {
   "cell_type": "markdown",
   "metadata": {},
   "source": [
    "## 0. Pfade, Pakete etc."
   ]
  },
  {
   "cell_type": "code",
   "execution_count": null,
   "metadata": {},
   "outputs": [],
   "source": [
    "import glob\n",
    "import imageio\n",
    "import numpy as np\n",
    "import scipy.ndimage\n",
    "import math\n",
    "\n",
    "%matplotlib inline\n",
    "import matplotlib.pyplot as plt"
   ]
  },
  {
   "cell_type": "code",
   "execution_count": null,
   "metadata": {},
   "outputs": [],
   "source": [
    "image_filter = 'Bilder/*.jpg'"
   ]
  },
  {
   "cell_type": "markdown",
   "metadata": {},
   "source": [
    "## 1. Definition der Faltungsmaske\n",
    "Definieren Sie hier die zu prüfenden Faltungsmaske `A` und `B`."
   ]
  },
  {
   "cell_type": "code",
   "execution_count": null,
   "metadata": {},
   "outputs": [],
   "source": [
    "m = 11\n",
    "sigma = m / 5\n",
    "\n",
    "offset = (m - 1) // 2\n",
    "A = np.asarray([\n",
    "    [\n",
    "        np.exp(-(((cx-offset)**2) + ((cy-offset)**2)) / (2 * (sigma ** 2)))\n",
    "        for cx in range(m)\n",
    "    ] for cy in range(m)\n",
    "])\n",
    "A /= np.sum(A)\n",
    "\n",
    "B = np.array([\n",
    "    [-1, 0, 1],\n",
    "    [-2, 0, 2],\n",
    "    [-1, 0, 1]\n",
    "])"
   ]
  },
  {
   "cell_type": "markdown",
   "metadata": {},
   "source": [
    "## 2. Laden und Normalisieren des Bildes"
   ]
  },
  {
   "cell_type": "code",
   "execution_count": null,
   "metadata": {},
   "outputs": [],
   "source": [
    "image_path = np.random.choice(glob.glob(image_filter))\n",
    "image = imageio.imread(image_path)"
   ]
  },
  {
   "cell_type": "code",
   "execution_count": null,
   "metadata": {},
   "outputs": [],
   "source": [
    "image = image.astype(np.float32)\n",
    "image -= image.min()\n",
    "image /= image.max()"
   ]
  },
  {
   "cell_type": "markdown",
   "metadata": {},
   "source": [
    "## 3. Berechnung der Fouriertransformation\n",
    "Setzen Sie hier ihre Lösung aus der vorigen Aufgabe ein:"
   ]
  },
  {
   "cell_type": "code",
   "execution_count": null,
   "metadata": {},
   "outputs": [],
   "source": [
    "image_transformed = np.fft.fft2(image)"
   ]
  },
  {
   "cell_type": "markdown",
   "metadata": {},
   "source": [
    "Berechnen Sie nun die Fouriertransformation der Faltungsmasken. Achten Sie darauf, dass das Ergebnis dieser Operation dieselbe Größe hat wie `image_transformed`!"
   ]
  },
  {
   "cell_type": "code",
   "execution_count": null,
   "metadata": {},
   "outputs": [],
   "source": [
    "A_transformed = np.fft.fft2(A, image.shape)\n",
    "B_transformed = np.fft.fft2(B, image.shape)"
   ]
  },
  {
   "cell_type": "markdown",
   "metadata": {},
   "source": [
    "## 4. Filterung"
   ]
  },
  {
   "cell_type": "markdown",
   "metadata": {},
   "source": [
    "Definieren Sie nun eine Funktion `ex3_filter_in_freq_domain`, die einen Filter im Frequenzbereich auf ein bereits fouriertransformiertes Bild anwendet. Beachten Sie das Faltungstheorem!"
   ]
  },
  {
   "cell_type": "code",
   "execution_count": null,
   "metadata": {},
   "outputs": [],
   "source": [
    "def ex3_filter_in_freq_domain(spectrum, transformed_filter):\n",
    "    return spectrum * transformed_filter"
   ]
  },
  {
   "cell_type": "markdown",
   "metadata": {},
   "source": [
    "Das transformierte Bild (Spektrum) wird nun gefiltert."
   ]
  },
  {
   "cell_type": "code",
   "execution_count": null,
   "metadata": {},
   "outputs": [],
   "source": [
    "%time image_transformed_filtered_A = ex3_filter_in_freq_domain(image_transformed, A_transformed)\n",
    "%time image_transformed_filtered_B = ex3_filter_in_freq_domain(image_transformed, B_transformed)"
   ]
  },
  {
   "cell_type": "markdown",
   "metadata": {},
   "source": [
    "## 5. Inverse Filterung\n",
    "Das veränderte Spektrum soll nun in den Ortsbereich zurücktransformiert werden. Verwenden Sie dazu die entsprechenden Funktionen des Paketes `numpy.fft`."
   ]
  },
  {
   "cell_type": "code",
   "execution_count": null,
   "metadata": {},
   "outputs": [],
   "source": [
    "image_filtered_A = np.fft.ifft2(image_transformed_filtered_A).real\n",
    "image_filtered_B = np.fft.ifft2(image_transformed_filtered_B).real"
   ]
  },
  {
   "cell_type": "markdown",
   "metadata": {},
   "source": [
    "Vergleichen Sie nun das gefilterte Bild mit dem Originalbild:"
   ]
  },
  {
   "cell_type": "code",
   "execution_count": null,
   "metadata": {},
   "outputs": [],
   "source": [
    "plt.figure('Convolution: image comparison', figsize=(12, 6))\n",
    "plt.subplot(1,3,1, title='Original Image')\n",
    "plt.imshow(image, cmap='gray', vmin=0, vmax=1)\n",
    "plt.subplot(1,3,2, title='Gauss-Filter')\n",
    "plt.imshow(image_filtered_A, cmap='gray')\n",
    "plt.subplot(1,3,3, title='Sobel-Filter')\n",
    "plt.imshow(image_filtered_B, cmap='gray', vmin=0, vmax=1)\n",
    "plt.show()"
   ]
  },
  {
   "cell_type": "markdown",
   "metadata": {},
   "source": [
    "## 6. Vergleich mit regulärer Faltung\n",
    "Im Folgenden wird das Bild mittels der Bibliotheksfunktion `scipy.ndimage.filters.convolve` mit `A` und `B` gefaltet."
   ]
  },
  {
   "cell_type": "code",
   "execution_count": null,
   "metadata": {},
   "outputs": [],
   "source": [
    "%time image_convolved_A = scipy.ndimage.filters.convolve(image, A, mode='constant')\n",
    "%time image_convolved_B = scipy.ndimage.filters.convolve(image, B, mode='constant')"
   ]
  },
  {
   "cell_type": "markdown",
   "metadata": {},
   "source": [
    "Vergleichen Sie `image_convolved` mit `image_filtered`, indem Sie die Bilder nebeneinander anzeigen:"
   ]
  },
  {
   "cell_type": "code",
   "execution_count": null,
   "metadata": {},
   "outputs": [],
   "source": [
    "plt.figure(figsize=(12, 12))\n",
    "plt.subplot(2,2,1, title='Gauss-Filter')\n",
    "plt.ylabel('Convolved')\n",
    "plt.imshow(image_convolved_A, cmap='gray')\n",
    "plt.subplot(2,2,2, title='Sobel-Filter')\n",
    "plt.imshow(image_convolved_B, cmap='gray')\n",
    "plt.subplot(2,2,3)\n",
    "plt.ylabel('Fourier Transform')\n",
    "plt.imshow(image_filtered_A, cmap='gray')\n",
    "plt.subplot(2,2,4)\n",
    "plt.imshow(image_filtered_B, cmap='gray')\n",
    "plt.show()"
   ]
  },
  {
   "cell_type": "markdown",
   "metadata": {},
   "source": [
    "Eigentlich sollten die Bilder gleich aussehen, wie man sieht besteht aber an den rändern der bilder ein leichter Unterschied."
   ]
  },
  {
   "cell_type": "markdown",
   "metadata": {},
   "source": [
    "### Welche Aussage lässt sich hinsichtlich der Rechenzeit der Faltung mittels Fourier-Transformation im Vergleich zur regulären Faltung treffen?"
   ]
  },
  {
   "cell_type": "markdown",
   "metadata": {},
   "source": [
    "Für kleine Werte ist der Unterschied nicht gerade groß, aber für größere Werte stellt man fest, dass sich die Fourier-Transform im vergleich zur Convolution linear verhält und Convolution eine quadratische Laufzeit aufweist, welcher aber von der größe der Maske abhängt."
   ]
  }
 ],
 "metadata": {
  "kernelspec": {
   "display_name": "Python 3.10.8 ('.venv': venv)",
   "language": "python",
   "name": "python3"
  },
  "language_info": {
   "codemirror_mode": {
    "name": "ipython",
    "version": 3
   },
   "file_extension": ".py",
   "mimetype": "text/x-python",
   "name": "python",
   "nbconvert_exporter": "python",
   "pygments_lexer": "ipython3",
   "version": "3.10.8"
  },
  "vscode": {
   "interpreter": {
    "hash": "09815540e75ffacea1ab33f4edc4f4b9d486573f09617b1bb10d2505d5d9ce1b"
   }
  }
 },
 "nbformat": 4,
 "nbformat_minor": 2
}
