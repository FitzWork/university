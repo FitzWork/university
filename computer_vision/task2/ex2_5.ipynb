{
 "cells": [
  {
   "cell_type": "markdown",
   "metadata": {},
   "source": [
    "# Aufgabe 5: Separierbarkeit der Gauß-Filterung\n",
    "Als effizientere Variante kann eine zweidimensionale lineare Filterung auf zwei eindimensionale lineare Filterungen reduziert werden.\n",
    "\n",
    "Ein linearer zweidimensionaler Filter $A \\in \\mathbb{R}^{m \\times n}$ heißt separierbar, wenn er durch Faltung zweier eindimensionaler Filter dargestellt werden kann:\n",
    "\\begin{align}\n",
    " A &= D_1 * D_2, \\qquad \\text{mit $D_1 \\in \\mathbb{R}^m, D_2 \\in \\mathbb{R}^n$}\\\\\n",
    "                &= D_1 \\cdot D_2^\\top,  \\qquad \\text{(da $D_1,D_2$ Vektoren).}\n",
    "\\end{align}\n",
    "Somit ergibt sich die Faltung zu\n",
    "\\begin{align}\n",
    "  I * A &= I * (D_1 * D_2)\\\\\n",
    "        &= (I * D_1) * D_2 \\qquad \\text{(Assoziativität der Faltung)}\n",
    "\\end{align}\n",
    "\n",
    "\n",
    "Implementieren Sie nun die 2-D-Gaußfilterung als Hintereinanderausführung je eines Gaußfilters in vertikaler und horizontaler Richtung!\n",
    "\n",
    "Vergleichen Sie die Laufzeiten mit der nicht-separierten Filterung für verschiedene Größen der Filtermaske!"
   ]
  },
  {
   "cell_type": "markdown",
   "metadata": {},
   "source": [
    "## 0. Pfade, Pakete etc."
   ]
  },
  {
   "cell_type": "code",
   "execution_count": null,
   "metadata": {},
   "outputs": [],
   "source": [
    "import glob\n",
    "import urllib.request\n",
    "\n",
    "%matplotlib inline\n",
    "import matplotlib.pyplot as plt\n",
    "\n",
    "import imageio\n",
    "import numpy as np"
   ]
  },
  {
   "cell_type": "code",
   "execution_count": null,
   "metadata": {},
   "outputs": [],
   "source": [
    "image_filter = 'Bilder/*.jpg'"
   ]
  },
  {
   "cell_type": "markdown",
   "metadata": {},
   "source": [
    "## 1. Definition der Faltungsmaske\n",
    "Definieren Sie hier wie in der vorherigen Aufgabe zunächst die Parameter `m` und `sigma` des Filters. Berechnen Sie anschließend eine eindimensionale Filtermaske `A_gauss`!"
   ]
  },
  {
   "cell_type": "code",
   "execution_count": null,
   "metadata": {},
   "outputs": [],
   "source": [
    "m = 7\n",
    "sigma = m / 5\n",
    "\n",
    "A_gauss = np.array([[np.exp(-(np.divide(k**2, 2*(sigma**2))))] for k in range(m)])"
   ]
  },
  {
   "cell_type": "markdown",
   "metadata": {},
   "source": [
    "## 2. Laden des Bildes"
   ]
  },
  {
   "cell_type": "code",
   "execution_count": null,
   "metadata": {},
   "outputs": [],
   "source": [
    "image_path = np.random.choice(glob.glob(image_filter))\n",
    "image = imageio.imread(image_path)"
   ]
  },
  {
   "cell_type": "markdown",
   "metadata": {},
   "source": [
    "Für diese Aufgabe ist es wichtig, das Bild im Fließkommaformat vorliegen zu haben. Konvertieren sie `image` zu einer geeigneten Repräsentation:"
   ]
  },
  {
   "cell_type": "code",
   "execution_count": null,
   "metadata": {},
   "outputs": [],
   "source": [
    "image = np.asarray(image, dtype=np.float32) / 255"
   ]
  },
  {
   "cell_type": "markdown",
   "metadata": {},
   "source": [
    "## 3. Berechung der Faltung\n",
    "Setzen Sie hier die Funktion `ex2_convolve` aus der vorherigen Aufgabe ein:"
   ]
  },
  {
   "cell_type": "code",
   "execution_count": null,
   "metadata": {},
   "outputs": [],
   "source": [
    "def ex2_convolve(image, filter_mask):\n",
    "    convolved_image = np.zeros_like(image)\n",
    "\n",
    "    mask_h, mask_k = tuple(value // 2 for value in filter_mask.shape)\n",
    "    image_y, image_x = image.shape\n",
    "\n",
    "    for y in range(image_y):\n",
    "        for x in range(image_x):\n",
    "            sum = 0\n",
    "            for h in range(-mask_h, mask_h+1):\n",
    "                for k in range(-mask_k, mask_k+1):\n",
    "                    if 0<=y-h and y-h<=image_y-1 and 0<=x-k and x-k<=image_x-1:\n",
    "                        sum = sum + filter_mask[h,k]*image[y-h,x-k]\n",
    "\n",
    "            convolved_image[y,x] = np.divide(1, (2 * np.pi * (sigma**2))) * sum\n",
    "    \n",
    "    return convolved_image"
   ]
  },
  {
   "cell_type": "markdown",
   "metadata": {},
   "source": [
    "## 4. Separierter Gauß-Filter"
   ]
  },
  {
   "cell_type": "markdown",
   "metadata": {},
   "source": [
    "Berechnen Sie nun das gefaltete Bild durch zwei Aufrufe der obigen Funktion! Tipp: Verwenden Sie die Funktion `transpose` aus dem Paket `numpy`, um die Filtermaske zu transponieren."
   ]
  },
  {
   "cell_type": "code",
   "execution_count": null,
   "metadata": {},
   "outputs": [],
   "source": [
    "%%time\n",
    "convolved_image = ex2_convolve(ex2_convolve(image, A_gauss), A_gauss.transpose())"
   ]
  },
  {
   "cell_type": "markdown",
   "metadata": {},
   "source": [
    "## 5. Darstellung\n",
    "Um die Wirksamkeit des separierten Gauß-Filters zu überprüfen, stellen Sie `image` und `convolved_image` nebeneinander dar:"
   ]
  },
  {
   "cell_type": "code",
   "execution_count": null,
   "metadata": {},
   "outputs": [],
   "source": [
    "fig, axes = plt.subplots(1, 2, figsize=(12, 12))\n",
    "axes[0].set_title('Image Orginal')\n",
    "axes[0].imshow(image, cmap='gray')\n",
    "axes[1].set_title('Image Convolved')\n",
    "axes[1].imshow(convolved_image, cmap='gray')\n",
    "plt.show()"
   ]
  },
  {
   "cell_type": "markdown",
   "metadata": {},
   "source": [
    "## 6. Laufzeitvergleich für verschiedene Filtergrößen\n",
    "\n",
    "Vergleichen Sie die Laufzeit der separierten Filterung mit der der 2D-Filterung für verschieden große Filtermasken!\n",
    "\n",
    "Zur Zeitmessung können Sie die magische Jupyter-Funktion `%time` (pro Zeile) oder `%%time` (pro Zelle) verwenden."
   ]
  },
  {
   "cell_type": "code",
   "execution_count": null,
   "metadata": {},
   "outputs": [],
   "source": [
    "m = np.random.choice([3, 5, 7, 10, 20])\n",
    "print('m = {}'.format(m))\n",
    "sigma = m / 5\n",
    "\n",
    "A_gauss_2d = np.array([[(np.exp(-(np.divide(h**2 + k**2, 2*(sigma**2))))) for h in range(m)] for k in range(m)])\n",
    "A_gauss_1d = np.array([[np.exp(-(np.divide(k**2, 2*(sigma**2))))] for k in range(m)])\n",
    "\n",
    "%time convolved_image_2d = ex2_convolve(image, A_gauss_2d)\n",
    "%time convolved_image_1d = ex2_convolve(ex2_convolve(image, A_gauss_1d), A_gauss.transpose())"
   ]
  }
 ],
 "metadata": {
  "kernelspec": {
   "display_name": "Python 3.10.8 ('.venv': venv)",
   "language": "python",
   "name": "python3"
  },
  "language_info": {
   "codemirror_mode": {
    "name": "ipython",
    "version": 3
   },
   "file_extension": ".py",
   "mimetype": "text/x-python",
   "name": "python",
   "nbconvert_exporter": "python",
   "pygments_lexer": "ipython3",
   "version": "3.10.8"
  },
  "vscode": {
   "interpreter": {
    "hash": "3ca4718a2bd84e8bf7e28f496eda7e2d02b2bd8341832cfbd276010917980a0e"
   }
  }
 },
 "nbformat": 4,
 "nbformat_minor": 2
}
