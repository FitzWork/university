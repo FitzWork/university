{
 "cells": [
  {
   "cell_type": "markdown",
   "metadata": {},
   "source": [
    "# Aufgabe 5: Separierbarkeit der Gauß-Filterung\n",
    "Als effizientere Variante kann eine zweidimensionale lineare Filterung auf zwei eindimensionale lineare Filterungen reduziert werden.\n",
    "\n",
    "Ein linearer zweidimensionaler Filter $A \\in \\mathbb{R}^{m \\times n}$ heißt separierbar, wenn er durch Faltung zweier eindimensionaler Filter dargestellt werden kann:\n",
    "\\begin{align}\n",
    " A &= D_1 * D_2, \\qquad \\text{mit $D_1 \\in \\mathbb{R}^m, D_2 \\in \\mathbb{R}^n$}\\\\\n",
    "                &= D_1 \\cdot D_2^\\top,  \\qquad \\text{(da $D_1,D_2$ Vektoren).}\n",
    "\\end{align}\n",
    "Somit ergibt sich die Faltung zu\n",
    "\\begin{align}\n",
    "  I * A &= I * (D_1 * D_2)\\\\\n",
    "        &= (I * D_1) * D_2 \\qquad \\text{(Assoziativität der Faltung)}\n",
    "\\end{align}\n",
    "\n",
    "\n",
    "Implementieren Sie nun die 2-D-Gaußfilterung als Hintereinanderausführung je eines Gaußfilters in vertikaler und horizontaler Richtung!\n",
    "\n",
    "Vergleichen Sie die Laufzeiten mit der nicht-separierten Filterung für verschiedene Größen der Filtermaske!"
   ]
  },
  {
   "cell_type": "markdown",
   "metadata": {},
   "source": [
    "## 0. Pfade, Pakete etc."
   ]
  },
  {
   "cell_type": "code",
   "execution_count": null,
   "metadata": {},
   "outputs": [],
   "source": [
    "import glob\n",
    "import urllib.request\n",
    "\n",
    "%matplotlib inline\n",
    "import matplotlib.pyplot as plt\n",
    "\n",
    "import imageio\n",
    "import numpy as np"
   ]
  },
  {
   "cell_type": "code",
   "execution_count": null,
   "metadata": {},
   "outputs": [],
   "source": [
    "image_filter = 'Bilder/*.jpg'"
   ]
  },
  {
   "cell_type": "markdown",
   "metadata": {},
   "source": [
    "## 1. Definition der Faltungsmaske\n",
    "Definieren Sie hier wie in der vorherigen Aufgabe zunächst die Parameter `m` und `sigma` des Filters. Berechnen Sie anschließend eine eindimensionale Filtermaske `A_gauss`!"
   ]
  },
  {
   "cell_type": "code",
   "execution_count": null,
   "metadata": {},
   "outputs": [],
   "source": [
    "m = 7\n",
    "sigma = m / 5\n",
    "\n",
    "offset = (m - 1) // 2\n",
    "# Nur in x-Richtung\n",
    "A_gauss = np.exp(-(np.arange(-offset, m - offset)**2) / (2 * sigma * sigma))\n",
    "A_gauss /= np.sum(A_gauss)\n",
    "# Zu 2-D Array erweitern\n",
    "A_gauss = A_gauss[None, :]"
   ]
  },
  {
   "cell_type": "markdown",
   "metadata": {},
   "source": [
    "## 2. Laden des Bildes"
   ]
  },
  {
   "cell_type": "code",
   "execution_count": null,
   "metadata": {},
   "outputs": [],
   "source": [
    "image_path = np.random.choice(glob.glob(image_filter))\n",
    "image = imageio.imread(image_path)"
   ]
  },
  {
   "cell_type": "markdown",
   "metadata": {},
   "source": [
    "Für diese Aufgabe ist es wichtig, das Bild im Fließkommaformat vorliegen zu haben. Konvertieren sie `image` zu einer geeigneten Repräsentation:"
   ]
  },
  {
   "cell_type": "code",
   "execution_count": null,
   "metadata": {},
   "outputs": [],
   "source": [
    "image = np.asarray(image, dtype=np.float32) / 255"
   ]
  },
  {
   "cell_type": "markdown",
   "metadata": {},
   "source": [
    "## 3. Berechung der Faltung\n",
    "Setzen Sie hier die Funktion `ex2_convolve` aus der vorherigen Aufgabe ein:"
   ]
  },
  {
   "cell_type": "code",
   "execution_count": null,
   "metadata": {},
   "outputs": [],
   "source": [
    "def ex2_convolve(image, filter_mask):\n",
    "    convolved_image = np.zeros_like(image)\n",
    "\n",
    "    offset_y = filter_mask.shape[0] // 2\n",
    "    offset_x = filter_mask.shape[1] // 2\n",
    "    \n",
    "    # Explicitly zero-pad the original image\n",
    "    image_pad = np.zeros((image.shape[0] + 2 * offset_y, image.shape[1] + 2 * offset_x), dtype=image.dtype)\n",
    "    image_pad[offset_y:offset_y+image.shape[0], offset_x:offset_x+image.shape[1]] = image\n",
    "    \n",
    "    # Convolve\n",
    "    for cy in range(convolved_image.shape[0]):\n",
    "        for cx in range(convolved_image.shape[1]):\n",
    "            # Extract image patch of the same size as the mask centered around the current pixel,\n",
    "            # multiply it element-wise with the mask, and accumulate the results.\n",
    "            patch = image_pad[cy:cy+filter_mask.shape[0], cx:cx+filter_mask.shape[1]]\n",
    "            convolved_image[cy, cx] = np.sum(patch * filter_mask)\n",
    "    \n",
    "    \n",
    "    return convolved_image"
   ]
  },
  {
   "cell_type": "markdown",
   "metadata": {},
   "source": [
    "## 4. Separierter Gauß-Filter"
   ]
  },
  {
   "cell_type": "markdown",
   "metadata": {},
   "source": [
    "Berechnen Sie nun das gefaltete Bild durch zwei Aufrufe der obigen Funktion! Tipp: Verwenden Sie die Funktion `transpose` aus dem Paket `numpy`, um die Filtermaske zu transponieren."
   ]
  },
  {
   "cell_type": "code",
   "execution_count": null,
   "metadata": {},
   "outputs": [],
   "source": [
    "%%time\n",
    "convolved_image = ex2_convolve(ex2_convolve(image, A_gauss), A_gauss.transpose())"
   ]
  },
  {
   "cell_type": "markdown",
   "metadata": {},
   "source": [
    "## 5. Darstellung\n",
    "Um die Wirksamkeit des separierten Gauß-Filters zu überprüfen, stellen Sie `image` und `convolved_image` nebeneinander dar:"
   ]
  },
  {
   "cell_type": "code",
   "execution_count": null,
   "metadata": {},
   "outputs": [],
   "source": [
    "plt.figure('Convolution: image comparison', figsize=(12, 6))\n",
    "plt.subplot(1,2,1, title='Original Image')\n",
    "plt.imshow(image, cmap='gray', vmin=0, vmax=1)\n",
    "plt.subplot(1,2,2, title='Convolved Image')\n",
    "plt.imshow(convolved_image, cmap='gray', vmin=0, vmax=1)\n",
    "plt.show()"
   ]
  },
  {
   "cell_type": "markdown",
   "metadata": {},
   "source": [
    "## 6. Laufzeitvergleich für verschiedene Filtergrößen\n",
    "\n",
    "Vergleichen Sie die Laufzeit der separierten Filterung mit der der 2D-Filterung für verschieden große Filtermasken!\n",
    "\n",
    "Zur Zeitmessung können Sie die magische Jupyter-Funktion `%time` (pro Zeile) oder `%%time` (pro Zelle) verwenden."
   ]
  },
  {
   "cell_type": "code",
   "execution_count": null,
   "metadata": {},
   "outputs": [],
   "source": [
    "sizes = np.arange(3, 100, 2)\n",
    "times_2d = []\n",
    "times_sep = []\n",
    "\n",
    "for m in sizes:\n",
    "    sigma = m / 5\n",
    "    offset = (m - 1) // 2\n",
    "    A_gauss = np.exp(-(np.arange(-offset, m - offset)**2) / (2 * sigma * sigma))\n",
    "    A_gauss = A_gauss[None, :]\n",
    "    A_gauss_2d = np.dot(A_gauss.T, A_gauss)\n",
    "    A_gauss_2d /= A_gauss_2d.sum()\n",
    "    A_gauss /= A_gauss.sum()\n",
    "    times_2d.append(min(timeit.repeat(\n",
    "        'convolved_image = ex2_convolve(image, A_gauss_2d)',\n",
    "        repeat=5, number=1, globals=globals())))\n",
    "    times_sep.append(min(timeit.repeat(\n",
    "        'convolved_image = ex2_convolve(ex2_convolve(image, A_gauss), A_gauss.T)',\n",
    "        repeat=5, number=1, globals=globals())))\n",
    "\n",
    "plt.figure(figsize=(10, 6))\n",
    "plt.title('Runtime Comparison')\n",
    "plt.plot(sizes, times_2d, label='2-D Convolution')\n",
    "plt.plot(sizes, times_sep, label='Separated Convolution')\n",
    "plt.xlabel('Filter Size')\n",
    "plt.ylabel('Time in Seconds')\n",
    "plt.grid()\n",
    "plt.legend()\n",
    "plt.show()"
   ]
  }
 ],
 "metadata": {
  "kernelspec": {
   "display_name": "Python 3.10.8 ('.venv': venv)",
   "language": "python",
   "name": "python3"
  },
  "language_info": {
   "codemirror_mode": {
    "name": "ipython",
    "version": 3
   },
   "file_extension": ".py",
   "mimetype": "text/x-python",
   "name": "python",
   "nbconvert_exporter": "python",
   "pygments_lexer": "ipython3",
   "version": "3.10.8"
  },
  "vscode": {
   "interpreter": {
    "hash": "09815540e75ffacea1ab33f4edc4f4b9d486573f09617b1bb10d2505d5d9ce1b"
   }
  }
 },
 "nbformat": 4,
 "nbformat_minor": 2
}
