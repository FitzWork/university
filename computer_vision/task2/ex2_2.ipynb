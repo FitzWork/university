{
 "cells": [
  {
   "cell_type": "markdown",
   "metadata": {},
   "source": [
    "# Aufgabe 2: Histogramme linearisieren\n",
    "Damit der zur Verfügung stehende Grauwertbereich optimal ausgenutzt wird, kann das Histogramm eines Bildes linearisiert werden.\n",
    "Dadurch wird der Kontrast verstärkt und das Bild qualitativ besser.\n",
    "Bei der Linearisierung wird die Quantisierungskennlinie optimal an die in einem Bild auftretenden Helligkeitswerte angepasst, d.h. Bereiche mit seltenen Grauwerten werden im Histogramm enger \"zusammengerückt\", Bereiche mit häufigen Grauwerten werden gestreckt:"
   ]
  },
  {
   "cell_type": "markdown",
   "metadata": {},
   "source": [
    "![](data:image/svg+xml;base64,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)"
   ]
  },
  {
   "cell_type": "markdown",
   "metadata": {},
   "source": [
    "Um das Histogramm eines Bildes zu linearisieren, wird zunächst das kumulierte Histogramm\n",
    "\\begin{align}\n",
    " h_c(I) = \\sum_{i=0}^I h(i).\n",
    "\\end{align}\n",
    "berechnet, das zu jedem Grauwert $I$ die Häufigkeit von Intensitäten unterhalb dieses Grauwertes angibt.\n",
    "Jedem Pixel im Bild mit dem Grauwert $I$ wird dann ein neuer Grauwert $I' = h_c(I)$ zugewiesen, wobei eine Skalierung der Werte von $h_c$ auf den Wertebereich der Grauwerte vorgenommen wird.\n",
    "\n",
    "Schreiben Sie eine Python-Funktion, die die Histogrammlinearisierung auf Grauwertbildern durchführt!\n",
    "Testen Sie diese auf den im Ordner `Bilder` bereitgestellten Beispielbildern!"
   ]
  },
  {
   "cell_type": "markdown",
   "metadata": {},
   "source": [
    "## 0. Pfade, Pakete etc."
   ]
  },
  {
   "cell_type": "code",
   "execution_count": null,
   "metadata": {},
   "outputs": [],
   "source": [
    "import glob\n",
    "import urllib.request\n",
    "\n",
    "%matplotlib inline\n",
    "import matplotlib.pyplot as plt\n",
    "\n",
    "import imageio\n",
    "import numpy as np\n",
    "\n",
    "import skimage\n",
    "import time"
   ]
  },
  {
   "cell_type": "code",
   "execution_count": null,
   "metadata": {},
   "outputs": [],
   "source": [
    "image_filter = 'Bilder/*.jpg'"
   ]
  },
  {
   "cell_type": "markdown",
   "metadata": {},
   "source": [
    "## 1. Laden des Bildes"
   ]
  },
  {
   "cell_type": "code",
   "execution_count": null,
   "metadata": {},
   "outputs": [],
   "source": [
    "image_path = np.random.choice(glob.glob(image_filter))\n",
    "image = imageio.imread(image_path)"
   ]
  },
  {
   "cell_type": "markdown",
   "metadata": {},
   "source": [
    "## 2. Bestimmung des Histogrammes\n",
    "Setzen Sie hier die Funktion `ex2_histogram` aus der vorherigen Übung ein:"
   ]
  },
  {
   "cell_type": "code",
   "execution_count": null,
   "metadata": {},
   "outputs": [],
   "source": [
    "def ex2_histogram(image):\n",
    "    histogram = [0] * 256\n",
    "    \n",
    "    for y in range(image.shape[0]):\n",
    "        for x in range(image.shape[1]):\n",
    "            histogram[image[y,x]] += 1\n",
    "            \n",
    "    return histogram"
   ]
  },
  {
   "cell_type": "markdown",
   "metadata": {},
   "source": [
    "## 3. Bestimmung des kumulierten Histogramms\n",
    "Definieren Sie nun eine Funktion, die für ein gegebenes Bild das kumulierte Histogramm zurückgibt. Dabei soll die o.g. Funktion `ex2_histogram` verwendet werden."
   ]
  },
  {
   "cell_type": "code",
   "execution_count": null,
   "metadata": {},
   "outputs": [],
   "source": [
    "def ex2_cumulative_histogram(image):\n",
    "    histogram = ex2_histogram(image)\n",
    "    \n",
    "    cumulative_histogram = [0] * 256\n",
    "    cumulative_histogram[0] = histogram[0]\n",
    "\n",
    "    for i in range(1, 256):\n",
    "        cumulative_histogram[i] = cumulative_histogram[i-1] + histogram[i] \n",
    "\n",
    "    return cumulative_histogram"
   ]
  },
  {
   "cell_type": "markdown",
   "metadata": {},
   "source": [
    "Nun werden das Histogramm und das kumulative Histogramm von den Funktionen berechnet:"
   ]
  },
  {
   "cell_type": "code",
   "execution_count": null,
   "metadata": {},
   "outputs": [],
   "source": [
    "image_histogram = ex2_histogram(image)\n",
    "image_cumulative_histogram = ex2_cumulative_histogram(image)"
   ]
  },
  {
   "cell_type": "markdown",
   "metadata": {},
   "source": [
    "## 4. Histogrammlinearisierung\n",
    "Im Folgenden soll eine Funktion definiert werden, die ein gegebenes Bild und ein kumulatives Histogramm verwendet, um die Histogrammlinearisierung auf dem Bild durchzuführen. Das linearisierte Bild soll zurückgegeben werden, ohne das Original zu verändern.\n",
    "\n",
    "Initialisieren Sie zunächst ein leeres Bild mit Hilfe der Funktion [`zeros_like`](https://numpy.org/doc/stable/reference/generated/numpy.zeros_like.html) aus dem Paket `numpy`. Wenden Sie die Histogrammlinearisierung dann Pixel für Pixel an."
   ]
  },
  {
   "cell_type": "code",
   "execution_count": null,
   "metadata": {},
   "outputs": [],
   "source": [
    "def ex2_histogram_linearization(image, cumulative_histogram):\n",
    "    linearized_image = np.zeros_like(image)\n",
    "    cmax = cumulative_histogram[-1]\n",
    "\n",
    "    \n",
    "    for y in range(image.shape[0]):\n",
    "        for x in range(image.shape[1]):\n",
    "            linearized_image[y,x] = ((cumulative_histogram[image[y,x]])/cmax)*255\n",
    "\n",
    "    return linearized_image"
   ]
  },
  {
   "cell_type": "markdown",
   "metadata": {},
   "source": [
    "Die Funktion wird nun verwendet, um das Bild zu linearisieren:"
   ]
  },
  {
   "cell_type": "code",
   "execution_count": null,
   "metadata": {},
   "outputs": [],
   "source": [
    "linearized_image = ex2_histogram_linearization(image, image_cumulative_histogram)\n",
    "linearized_image_cumulative_histogram = ex2_cumulative_histogram(linearized_image)"
   ]
  },
  {
   "cell_type": "markdown",
   "metadata": {},
   "source": [
    "## 5. Darstellung\n",
    "Um die Wirksamkeit der Histogrammlinearisierung zu überprüfen, stellen Sie zunächst die kumulativen Histogramme von `image` und `linearized_image` nebeneinander dar:"
   ]
  },
  {
   "cell_type": "code",
   "execution_count": null,
   "metadata": {},
   "outputs": [],
   "source": [
    "fig, axes = plt.subplots(1, 2, figsize=(12, 12))\n",
    "axes[0].set_title('Cumulative Histogram Orginal')\n",
    "axes[0].bar(range(256), image_cumulative_histogram)\n",
    "axes[1].set_title('Cumulative Histogram Linearized')\n",
    "axes[1].bar(range(256), linearized_image_cumulative_histogram)\n",
    "plt.show()"
   ]
  },
  {
   "cell_type": "markdown",
   "metadata": {},
   "source": [
    "Vergleichen Sie nun die beiden Bilder, indem Sie sie nebeneinander anzeigen."
   ]
  },
  {
   "cell_type": "code",
   "execution_count": null,
   "metadata": {},
   "outputs": [],
   "source": [
    "fig, axes = plt.subplots(1, 2, figsize=(12, 12))\n",
    "axes[0].set_title('Image Original')\n",
    "axes[0].imshow(image, cmap='gray')\n",
    "axes[1].set_title('Image Linearized')\n",
    "axes[1].imshow(linearized_image, cmap='gray')\n",
    "plt.show()"
   ]
  }
 ],
 "metadata": {
  "kernelspec": {
   "display_name": "Python 3.10.8 ('.venv': venv)",
   "language": "python",
   "name": "python3"
  },
  "language_info": {
   "codemirror_mode": {
    "name": "ipython",
    "version": 3
   },
   "file_extension": ".py",
   "mimetype": "text/x-python",
   "name": "python",
   "nbconvert_exporter": "python",
   "pygments_lexer": "ipython3",
   "version": "3.10.8"
  },
  "vscode": {
   "interpreter": {
    "hash": "3ca4718a2bd84e8bf7e28f496eda7e2d02b2bd8341832cfbd276010917980a0e"
   }
  }
 },
 "nbformat": 4,
 "nbformat_minor": 2
}
