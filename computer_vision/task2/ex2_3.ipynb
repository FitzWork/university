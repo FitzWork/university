{
 "cells": [
  {
   "cell_type": "markdown",
   "metadata": {},
   "source": [
    "# Aufgabe 3: Faltung\n",
    "Ein wichtiger Basisalgorithmus in der Bildverarbeitung ist die diskrete Faltung\n",
    "\\begin{align}\n",
    " I_A(i,j) = (I * A)(i, j) = \\sum_{h=-\\lfloor \\frac{m}{2} \\rfloor}^{ \\lfloor \\frac{m}{2} \\rfloor} \\sum_{k=-\\lfloor \\frac{n}{2} \\rfloor}^{ \\lfloor \\frac{n}{2} \\rfloor} A(h,k) \\cdot I(i-h, j-k).\n",
    " \\label{eqn:lin_filt}\n",
    "\\end{align}\n",
    "\n",
    "Hierbei wird eine Faltungsmaske $A \\in \\mathbb{R}^{m \\times n}$ verwendet und über das Eingabebild $I$ \"geschoben\".\n",
    "Dabei wird für jedes Pixel des Eingabebildes eine mit den korrespondierenden Einträgen der Faltungsmaske gewichtete Linearkombination der Nachbarschaftspixel berechnet.\n",
    "Verschiedene Faltungsmasken haben dabei unterschiedliche Auswirkungen auf das Bild.\n",
    "\n",
    "Eine einfache Faltungsmaske ist z. B. der Mittelwertfilter $A_\\text{avg}$, der für eine\n",
    "Größe $m=n=3$ die folgende Form hat:\n",
    "\n",
    "\\begin{equation}\n",
    " A_\\text{avg} = \\frac{1}{9} \\left(\\begin{array}{ccc}1&1&1\\\\1&1&1\\\\1&1&1\\end{array}\\right).\n",
    "\\end{equation}\n",
    "\n",
    "Schreiben Sie eine Python-Funktion, eine beliebige Filtermaske $A \\in \\mathbb{R}^{m \\times n}$ auf ein Bild anwendet, und testen Sie diese mit obigem Mittelwertfilter $A_\\text{avg}$!\n",
    "Überlegen Sie sich ein Vorgehen bei der Behandlung der an den Bildrändern gelegenen Pixeln!"
   ]
  },
  {
   "cell_type": "markdown",
   "metadata": {},
   "source": [
    "## 0. Pfade, Pakete etc."
   ]
  },
  {
   "cell_type": "code",
   "execution_count": null,
   "metadata": {},
   "outputs": [],
   "source": [
    "import glob\n",
    "import urllib.request\n",
    "\n",
    "%matplotlib inline\n",
    "import matplotlib.pyplot as plt\n",
    "\n",
    "import imageio\n",
    "import numpy as np"
   ]
  },
  {
   "cell_type": "code",
   "execution_count": null,
   "metadata": {},
   "outputs": [],
   "source": [
    "image_filter = 'Bilder/*.jpg'"
   ]
  },
  {
   "cell_type": "markdown",
   "metadata": {},
   "source": [
    "## 1. Definition der Faltungsmaske\n",
    "Definieren Sie hier die Faltungsmaske `A_avg` für den Mittelwertfilter!"
   ]
  },
  {
   "cell_type": "code",
   "execution_count": null,
   "metadata": {},
   "outputs": [],
   "source": [
    "A_avg = (1/9) * np.array([[1]*3]*3)   # Mittelwertfilter\n",
    "#A_avg = np.array([[0,-1,0],[-1,5,-1],[0,-1,0]])# Schärfungsfilter\n",
    "#A_avg = np.array([[0,1,0],[1,-4,1],[0,1,0]])   # Kantenfilter\n",
    "#A_avg = np.array([[-2,-1,0],[-1,1,1],[0,1,2]]) # Relieffilter"
   ]
  },
  {
   "cell_type": "markdown",
   "metadata": {},
   "source": [
    "## 2. Laden des Bildes"
   ]
  },
  {
   "cell_type": "code",
   "execution_count": null,
   "metadata": {},
   "outputs": [],
   "source": [
    "image_path = np.random.choice(glob.glob(image_filter))\n",
    "image = imageio.imread(image_path)"
   ]
  },
  {
   "cell_type": "markdown",
   "metadata": {},
   "source": [
    "Für diese Aufgabe ist es wichtig, das Bild im Fließkommaformat vorliegen zu haben. Konvertieren sie `image` zu einer geeigneten Repräsentation:"
   ]
  },
  {
   "cell_type": "code",
   "execution_count": null,
   "metadata": {},
   "outputs": [],
   "source": [
    "image = np.asarray(image, dtype=np.float32) / 255"
   ]
  },
  {
   "cell_type": "markdown",
   "metadata": {},
   "source": [
    "## 3. Berechung der Faltung\n",
    "Definieren Sie eine Funktion `ex2_convolve`, die ein Bild sowie eine Faltungsmaske übergeben bekommt und als Rückgabewert das gefaltete Bild liefert. Denken Sie an ein sinnvolles Vorgehen zur Behandlung der Bildränder."
   ]
  },
  {
   "cell_type": "code",
   "execution_count": null,
   "metadata": {},
   "outputs": [],
   "source": [
    "def ex2_convolve(image, filter_mask):\n",
    "    convolved_image = np.zeros_like(image)\n",
    "\n",
    "    mask_h, mask_k = tuple(value // 2 for value in filter_mask.shape)\n",
    "    image_y, image_x = image.shape\n",
    "\n",
    "    for y in range(image_y):\n",
    "        for x in range(image_x):\n",
    "            sum = 0\n",
    "            for h in range(-mask_h, mask_h+1):\n",
    "                for k in range(-mask_k, mask_k+1):\n",
    "                    if 0<=y-h and y-h<=image_y-1 and 0<=x-k and x-k<=image_x-1:\n",
    "                        sum = sum + filter_mask[h,k]*image[y-h,x-k]\n",
    "\n",
    "            convolved_image[y,x] = sum\n",
    "    \n",
    "    return convolved_image"
   ]
  },
  {
   "cell_type": "markdown",
   "metadata": {},
   "source": [
    "Nun wird das gefaltete Bild mit Hilfe der Funktion berechnet:"
   ]
  },
  {
   "cell_type": "code",
   "execution_count": null,
   "metadata": {},
   "outputs": [],
   "source": [
    "convolved_image = ex2_convolve(image, A_avg)"
   ]
  },
  {
   "cell_type": "markdown",
   "metadata": {},
   "source": [
    "## 4. Darstellung\n",
    "Um die Wirksamkeit der Faltung zu überprüfen, stellen Sie `image` und `convolved_image` nebeneinander dar:"
   ]
  },
  {
   "cell_type": "code",
   "execution_count": null,
   "metadata": {},
   "outputs": [],
   "source": [
    "fig, axes = plt.subplots(1, 2, figsize=(12, 12))\n",
    "axes[0].set_title('Image Original')\n",
    "axes[0].imshow(image, cmap='gray')\n",
    "axes[1].set_title('Image Convolved')\n",
    "axes[1].imshow(convolved_image, cmap='gray')\n",
    "plt.show()"
   ]
  }
 ],
 "metadata": {
  "kernelspec": {
   "display_name": "Python 3.10.8 ('.venv': venv)",
   "language": "python",
   "name": "python3"
  },
  "language_info": {
   "codemirror_mode": {
    "name": "ipython",
    "version": 3
   },
   "file_extension": ".py",
   "mimetype": "text/x-python",
   "name": "python",
   "nbconvert_exporter": "python",
   "pygments_lexer": "ipython3",
   "version": "3.10.8"
  },
  "vscode": {
   "interpreter": {
    "hash": "3ca4718a2bd84e8bf7e28f496eda7e2d02b2bd8341832cfbd276010917980a0e"
   }
  }
 },
 "nbformat": 4,
 "nbformat_minor": 2
}
