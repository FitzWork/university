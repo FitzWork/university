{
 "cells": [
  {
   "cell_type": "markdown",
   "metadata": {},
   "source": [
    "# Aufgabe 4: Gauß-Filter\n",
    "Der vorgestellte Mittelwertfilter bewirkt eine Glättung des Bildes, die zur Rauschunterdrückung verwendet werden kann.\n",
    "Ein anderer Faltungsoperator mit demselben Zweck ist der Gauß-Filter $A_\\text{Gauß} \\in \\mathbb{R}^{m \\times m}$.\n",
    "Dabei sind die Koeffizienten der Faltungsmaske gegeben durch\n",
    "\\begin{equation}\n",
    " A_\\text{Gauß}(h,k) = \\mathrm{e}^{-\\frac{h^2+k^2}{2\\sigma^2}}.\n",
    "\\end{equation}\n",
    "\n",
    "Die Standardabweichung $\\sigma$ wird hierbei in Abhängigkeit von der Fenstergröße üblicherweise auf $\\sigma = \\frac{m}{5}$ gesetzt.\n",
    "\n",
    "Berechnen Sie für verschiedene Fenstergrößen (z.B. $m \\in\\{3, 5, 7\\}$) die Koeffizienten des Gaußfilters!\n",
    "Achten Sie dabei darauf, dass die Summe der Koeffizienten auf $1$ normiert wird, damit bei der Faltung das Bild insgesamt nicht heller oder dunkler wird!\n",
    "Verwenden Sie die errechneten Gaußfilter als Ersatz für den Mittelwertfilter aus der vorherigen Teilaufgabe und vergleichen Sie die Ergebnisse!"
   ]
  },
  {
   "cell_type": "markdown",
   "metadata": {},
   "source": [
    "## 0. Pfade, Pakete etc."
   ]
  },
  {
   "cell_type": "code",
   "execution_count": null,
   "metadata": {},
   "outputs": [],
   "source": [
    "import glob\n",
    "import urllib.request\n",
    "\n",
    "%matplotlib inline\n",
    "import matplotlib.pyplot as plt\n",
    "\n",
    "import imageio\n",
    "import numpy as np"
   ]
  },
  {
   "cell_type": "code",
   "execution_count": null,
   "metadata": {},
   "outputs": [],
   "source": [
    "image_filter = 'Bilder/*.jpg'"
   ]
  },
  {
   "cell_type": "markdown",
   "metadata": {},
   "source": [
    "## 1. Definition der Faltungsmaske\n",
    "Definieren Sie hier zunächst die Parameter `m` und `sigma` des Filters. Berechnen Sie anschließend die Filtermaske `A_gauss` sowie (zum Vergleich) einen Mittelwertfilter derselben Größe!"
   ]
  },
  {
   "cell_type": "code",
   "execution_count": null,
   "metadata": {},
   "outputs": [],
   "source": [
    "m = np.random.choice([3, 5, 7, 11, 21])\n",
    "sigma = m / 5\n",
    "\n",
    "offset = (m-1) // 2\n",
    "A_gauss = np.asarray([\n",
    "    [\n",
    "        np.exp(-(((h-offset)**2) + ((k-offset)**2)) / (2*(sigma**2)))\n",
    "        for h in range(m)\n",
    "    ] for k in range(m)\n",
    "])\n",
    "\n",
    "A_avg = np.ones((m, m), dtype=np.float32) / (m * m)"
   ]
  },
  {
   "cell_type": "markdown",
   "metadata": {},
   "source": [
    "## 2. Laden des Bildes"
   ]
  },
  {
   "cell_type": "code",
   "execution_count": null,
   "metadata": {},
   "outputs": [],
   "source": [
    "image_path = np.random.choice(glob.glob(image_filter))\n",
    "image = imageio.imread(image_path)"
   ]
  },
  {
   "cell_type": "markdown",
   "metadata": {},
   "source": [
    "Für diese Aufgabe ist es wichtig, das Bild im Fließkommaformat vorliegen zu haben. Konvertieren sie `image` zu einer geeigneten Repräsentation:"
   ]
  },
  {
   "cell_type": "code",
   "execution_count": null,
   "metadata": {},
   "outputs": [],
   "source": [
    "image = np.asarray(image, dtype=np.float32) / 255"
   ]
  },
  {
   "cell_type": "markdown",
   "metadata": {},
   "source": [
    "## 3. Berechung der Faltung\n",
    "Setzen Sie hier die Funktion `ex2_convolve` aus der vorherigen Aufgabe ein:"
   ]
  },
  {
   "cell_type": "code",
   "execution_count": null,
   "metadata": {},
   "outputs": [],
   "source": [
    "def ex2_convolve(image, filter_mask):\n",
    "    convolved_image = np.zeros_like(image)\n",
    "\n",
    "    offset_y = filter_mask.shape[0] // 2\n",
    "    offset_x = filter_mask.shape[1] // 2\n",
    "\n",
    "    # Explicitly zero-pad the original image\n",
    "    image_pad = np.zeros((image.shape[0] + 2 * offset_y, image.shape[1] + 2 * offset_x), dtype=image.dtype)\n",
    "    image_pad[offset_y:offset_y+image.shape[0], offset_x:offset_x+image.shape[1]] = image\n",
    "    \n",
    "    # Convolve\n",
    "    for cy in range(convolved_image.shape[0]):\n",
    "        for cx in range(convolved_image.shape[1]):\n",
    "            # Extract image patch of the same size as the mask centered around the current pixel,\n",
    "            # multiply it element-wise with the mask, and accumulate the results.\n",
    "            patch = image_pad[cy:cy+filter_mask.shape[0], cx:cx+filter_mask.shape[1]]\n",
    "            convolved_image[cy, cx] = np.sum(patch * filter_mask)\n",
    "    \n",
    "    return convolved_image"
   ]
  },
  {
   "cell_type": "markdown",
   "metadata": {},
   "source": [
    "Nun wird das gefaltete Bild mit Hilfe der Funktion berechnet:"
   ]
  },
  {
   "cell_type": "code",
   "execution_count": null,
   "metadata": {},
   "outputs": [],
   "source": [
    "%time convolved_image_gauss = ex2_convolve(image, A_gauss)\n",
    "%time convolved_image_avg = ex2_convolve(image, A_avg)"
   ]
  },
  {
   "cell_type": "markdown",
   "metadata": {},
   "source": [
    "## 4. Darstellung\n",
    "Stellen Sie `image`, `convolved_image_avg` und `convolved_image_gauss` nebeneinander dar:"
   ]
  },
  {
   "cell_type": "code",
   "execution_count": null,
   "metadata": {
    "scrolled": false
   },
   "outputs": [],
   "source": [
    "plt.figure('Convolution: image comparison', figsize=(15, 6))\n",
    "plt.subplot(1,3,1, title='Original Image')\n",
    "plt.imshow(image, cmap='gray', vmin=0, vmax=1)\n",
    "plt.subplot(1,3,2, title='Average Filter')\n",
    "plt.imshow(convolved_image_avg, cmap='gray', vmin=0, vmax=1)\n",
    "plt.subplot(1,3,3, title='Gauss Filter')\n",
    "plt.imshow(convolved_image_gauss, cmap='gray', vmin=0, vmax=1)\n",
    "plt.show()"
   ]
  }
 ],
 "metadata": {
  "kernelspec": {
   "display_name": "Python 3.10.8 ('.venv': venv)",
   "language": "python",
   "name": "python3"
  },
  "language_info": {
   "codemirror_mode": {
    "name": "ipython",
    "version": 3
   },
   "file_extension": ".py",
   "mimetype": "text/x-python",
   "name": "python",
   "nbconvert_exporter": "python",
   "pygments_lexer": "ipython3",
   "version": "3.10.8"
  },
  "vscode": {
   "interpreter": {
    "hash": "09815540e75ffacea1ab33f4edc4f4b9d486573f09617b1bb10d2505d5d9ce1b"
   }
  }
 },
 "nbformat": 4,
 "nbformat_minor": 2
}
