{
 "cells": [
  {
   "cell_type": "markdown",
   "metadata": {},
   "source": [
    "# Aufgabe 4: Gauß-Filter\n",
    "Der vorgestellte Mittelwertfilter bewirkt eine Glättung des Bildes, die zur Rauschunterdrückung verwendet werden kann.\n",
    "Ein anderer Faltungsoperator mit demselben Zweck ist der Gauß-Filter $A_\\text{Gauß} \\in \\mathbb{R}^{m \\times m}$.\n",
    "Dabei sind die Koeffizienten der Faltungsmaske gegeben durch\n",
    "\\begin{equation}\n",
    " A_\\text{Gauß}(h,k) = \\mathrm{e}^{-\\frac{h^2+k^2}{2\\sigma^2}}.\n",
    "\\end{equation}\n",
    "\n",
    "Die Standardabweichung $\\sigma$ wird hierbei in Abhängigkeit von der Fenstergröße üblicherweise auf $\\sigma = \\frac{m}{5}$ gesetzt.\n",
    "\n",
    "Berechnen Sie für verschiedene Fenstergrößen (z.B. $m \\in\\{3, 5, 7\\}$) die Koeffizienten des Gaußfilters!\n",
    "Achten Sie dabei darauf, dass die Summe der Koeffizienten auf $1$ normiert wird, damit bei der Faltung das Bild insgesamt nicht heller oder dunkler wird!\n",
    "Verwenden Sie die errechneten Gaußfilter als Ersatz für den Mittelwertfilter aus der vorherigen Teilaufgabe und vergleichen Sie die Ergebnisse!"
   ]
  },
  {
   "cell_type": "markdown",
   "metadata": {},
   "source": [
    "## 0. Pfade, Pakete etc."
   ]
  },
  {
   "cell_type": "code",
   "execution_count": null,
   "metadata": {},
   "outputs": [],
   "source": [
    "import glob\n",
    "import urllib.request\n",
    "\n",
    "%matplotlib inline\n",
    "import matplotlib.pyplot as plt\n",
    "\n",
    "import imageio\n",
    "import numpy as np"
   ]
  },
  {
   "cell_type": "code",
   "execution_count": null,
   "metadata": {},
   "outputs": [],
   "source": [
    "image_filter = 'Bilder/*.jpg'"
   ]
  },
  {
   "cell_type": "markdown",
   "metadata": {},
   "source": [
    "## 1. Definition der Faltungsmaske\n",
    "Definieren Sie hier zunächst die Parameter `m` und `sigma` des Filters. Berechnen Sie anschließend die Filtermaske `A_gauss` sowie (zum Vergleich) einen Mittelwertfilter derselben Größe!"
   ]
  },
  {
   "cell_type": "code",
   "execution_count": null,
   "metadata": {},
   "outputs": [],
   "source": [
    "m = np.random.choice([3, 5, 7, 10, 20])\n",
    "sigma = m / 5\n",
    "\n",
    "A_gauss = np.array([[(np.exp(-(np.divide(h**2 + k**2, 2*(sigma**2))))) for h in range(m)] for k in range(m)])\n",
    "\n",
    "A_avg = (1/9) * np.array([[1]*3]*3)"
   ]
  },
  {
   "cell_type": "markdown",
   "metadata": {},
   "source": [
    "## 2. Laden des Bildes"
   ]
  },
  {
   "cell_type": "code",
   "execution_count": null,
   "metadata": {},
   "outputs": [],
   "source": [
    "image_path = np.random.choice(glob.glob(image_filter))\n",
    "image = imageio.imread(image_path)"
   ]
  },
  {
   "cell_type": "markdown",
   "metadata": {},
   "source": [
    "Für diese Aufgabe ist es wichtig, das Bild im Fließkommaformat vorliegen zu haben. Konvertieren sie `image` zu einer geeigneten Repräsentation:"
   ]
  },
  {
   "cell_type": "code",
   "execution_count": null,
   "metadata": {},
   "outputs": [],
   "source": [
    "image = np.asarray(image, dtype=np.float32) / 255"
   ]
  },
  {
   "cell_type": "markdown",
   "metadata": {},
   "source": [
    "## 3. Berechung der Faltung\n",
    "Setzen Sie hier die Funktion `ex2_convolve` aus der vorherigen Aufgabe ein:"
   ]
  },
  {
   "cell_type": "code",
   "execution_count": null,
   "metadata": {},
   "outputs": [],
   "source": [
    "def ex2_convolve(image, filter_mask):\n",
    "    convolved_image = np.zeros_like(image)\n",
    "\n",
    "    mask_h, mask_k = tuple(value // 2 for value in filter_mask.shape)\n",
    "    image_y, image_x = image.shape\n",
    "\n",
    "    for y in range(image_y):\n",
    "        for x in range(image_x):\n",
    "            sum = 0\n",
    "            for h in range(-mask_h, mask_h+1):\n",
    "                for k in range(-mask_k, mask_k+1):\n",
    "                    if 0<=y-h and y-h<=image_y-1 and 0<=x-k and x-k<=image_x-1:\n",
    "                        sum = sum + filter_mask[h,k]*image[y-h,x-k]\n",
    "\n",
    "            convolved_image[y,x] = np.divide(1, (2 * np.pi * (sigma**2))) * sum\n",
    "    \n",
    "    return convolved_image"
   ]
  },
  {
   "cell_type": "markdown",
   "metadata": {},
   "source": [
    "Nun wird das gefaltete Bild mit Hilfe der Funktion berechnet:"
   ]
  },
  {
   "cell_type": "code",
   "execution_count": null,
   "metadata": {},
   "outputs": [],
   "source": [
    "%time convolved_image_gauss = ex2_convolve(image, A_gauss)\n",
    "%time convolved_image_avg = ex2_convolve(image, A_avg)"
   ]
  },
  {
   "cell_type": "markdown",
   "metadata": {},
   "source": [
    "## 4. Darstellung\n",
    "Stellen Sie `image`, `convolved_image_avg` und `convolved_image_gauss` nebeneinander dar:"
   ]
  },
  {
   "cell_type": "code",
   "execution_count": null,
   "metadata": {
    "scrolled": false
   },
   "outputs": [],
   "source": [
    "fig, axes = plt.subplots(1, 2, figsize=(12, 12))\n",
    "axes[0].set_title('Image Convolved (Gauss) with m={}'.format(m))\n",
    "axes[0].imshow(convolved_image_gauss, cmap='gray')\n",
    "axes[1].set_title('Image Convolved (Average)')\n",
    "axes[1].imshow(convolved_image_avg, cmap='gray')\n",
    "plt.show()"
   ]
  }
 ],
 "metadata": {
  "kernelspec": {
   "display_name": "Python 3.10.8 ('.venv': venv)",
   "language": "python",
   "name": "python3"
  },
  "language_info": {
   "codemirror_mode": {
    "name": "ipython",
    "version": 3
   },
   "file_extension": ".py",
   "mimetype": "text/x-python",
   "name": "python",
   "nbconvert_exporter": "python",
   "pygments_lexer": "ipython3",
   "version": "3.10.8"
  },
  "vscode": {
   "interpreter": {
    "hash": "3ca4718a2bd84e8bf7e28f496eda7e2d02b2bd8341832cfbd276010917980a0e"
   }
  }
 },
 "nbformat": 4,
 "nbformat_minor": 2
}
