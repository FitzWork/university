{
 "cells": [
  {
   "cell_type": "markdown",
   "metadata": {},
   "source": [
    "# Aufgabe 4: Gammakorrektur\n",
    "Die Grauwerttransformation\n",
    "\\begin{equation*}\n",
    " f_2(x,y) = f_1(x,y)^\\gamma, \\qquad \\text{mit } \\underset{(x,y)\\in \\Omega}{\\forall}: f_1(x, y) \\in \\left[0,1\\right]\n",
    "\\end{equation*}\n",
    "wird auch als *Gammakorrektur* bezeichnet.\n",
    "\n",
    "Implementieren sie eine Python-Funktion, welche diese Operation mit variablem Parameter $\\gamma$ realisiert!\n",
    "Welchen Einfluss hat dieser Parameter $\\gamma$? Wie wird das Bild bei $\\gamma=2.5$ verändert, wie bei $\\gamma=0.5$?\n",
    "Wofür könnte eine solche Gammakorrektur jeweils verwendet werden?"
   ]
  },
  {
   "cell_type": "markdown",
   "metadata": {},
   "source": [
    "## 0. Pfade, Pakete etc."
   ]
  },
  {
   "cell_type": "code",
   "execution_count": null,
   "metadata": {},
   "outputs": [],
   "source": [
    "import glob\n",
    "import urllib.request\n",
    "\n",
    "%matplotlib notebook\n",
    "import matplotlib.pyplot as plt\n",
    "\n",
    "import imageio\n",
    "import numpy as np"
   ]
  },
  {
   "cell_type": "code",
   "execution_count": null,
   "metadata": {},
   "outputs": [],
   "source": [
    "image_filter = 'Bilder/*.jpg'"
   ]
  },
  {
   "cell_type": "markdown",
   "metadata": {},
   "source": [
    "## 1. Parameter $\\gamma$\n",
    "Hier wird $\\gamma$ definiert, um den Korrekturprozess einfach zu beeinlussen:"
   ]
  },
  {
   "cell_type": "code",
   "execution_count": null,
   "metadata": {},
   "outputs": [],
   "source": [
    "gamma = 0.5"
   ]
  },
  {
   "cell_type": "markdown",
   "metadata": {},
   "source": [
    "## 2. Laden des Bildes\n",
    "Laden Sie ein zufälliges Bild aus dem Materialordner in `image`:"
   ]
  },
  {
   "cell_type": "code",
   "execution_count": null,
   "metadata": {},
   "outputs": [],
   "source": [
    "image = imageio.imread(np.random.choice(glob.glob(image_filter)))"
   ]
  },
  {
   "cell_type": "markdown",
   "metadata": {},
   "source": [
    "## 3. Normalisieren des Bildes\n",
    "Setzen Sie hier ihre Lösung aus der vorherigen Teilaufgabe ein, um die Grauwerte von `image` zu normieren. Achten Sie darauf, einen angemessenen Datentypen zu verwenden!"
   ]
  },
  {
   "cell_type": "code",
   "execution_count": null,
   "metadata": {},
   "outputs": [],
   "source": [
    "image_normed = (image - np.min(image)) / (np.max(image) - np.min(image))"
   ]
  },
  {
   "cell_type": "markdown",
   "metadata": {},
   "source": [
    "## 4. Gammakorrektur\n",
    "Definieren Sie eine Funktion `ex1_gammacorrect`, die ein gammakorrigiertes Bild für ein gegebenes Bild und einen Parameter $\\gamma$ zurückgibt."
   ]
  },
  {
   "cell_type": "code",
   "execution_count": null,
   "metadata": {},
   "outputs": [],
   "source": [
    "def ex1_gammacorrect(image, gamma):\n",
    "    return pow(image, gamma)"
   ]
  },
  {
   "cell_type": "markdown",
   "metadata": {},
   "source": [
    "## 5. Darstellen des Bildes"
   ]
  },
  {
   "cell_type": "markdown",
   "metadata": {},
   "source": [
    "Die Gammakorrektur wird nun ausgeführt:"
   ]
  },
  {
   "cell_type": "code",
   "execution_count": null,
   "metadata": {},
   "outputs": [],
   "source": [
    "image_corrected = ex1_gammacorrect(image, gamma=gamma)"
   ]
  },
  {
   "cell_type": "markdown",
   "metadata": {},
   "source": [
    "Stellen Sie das Originalbild und das gammakorrigierte Bild nebeneinander dar:"
   ]
  },
  {
   "cell_type": "code",
   "execution_count": null,
   "metadata": {},
   "outputs": [],
   "source": [
    "plt.subplot(1, 2, 1)\n",
    "plt.imshow(image)\n",
    "\n",
    "plt.subplot(1, 2, 2)\n",
    "plt.imshow(image_corrected)"
   ]
  },
  {
   "cell_type": "markdown",
   "metadata": {},
   "source": [
    "## \\*Beantwortung der Fragen\n",
    "Für einen Gammawert kleiner als 1 wird der Konstrast des Bildes verringert. \n",
    "Somit ist klar, dass für einen Gammawert größer als 1 sich der Kontrast erhöht.\n",
    "Dies könnte bei der Anpassung der Helligkeit von über-/unterbelichteten Bildern hilfreich sein."
   ]
  },
  {
   "cell_type": "code",
   "execution_count": null,
   "metadata": {},
   "outputs": [],
   "source": [
    "gamma = 2.5"
   ]
  },
  {
   "cell_type": "code",
   "execution_count": null,
   "metadata": {},
   "outputs": [],
   "source": [
    "image_corrected1 = ex1_gammacorrect(image, gamma=gamma)"
   ]
  },
  {
   "cell_type": "code",
   "execution_count": null,
   "metadata": {},
   "outputs": [],
   "source": [
    "plt.subplot(1, 2, 1)\n",
    "plt.imshow(image)\n",
    "\n",
    "plt.subplot(1, 2, 2)\n",
    "plt.imshow(image_corrected1)"
   ]
  }
 ],
 "metadata": {
  "kernelspec": {
   "display_name": "Python 3 (ipykernel)",
   "language": "python",
   "name": "python3"
  },
  "language_info": {
   "codemirror_mode": {
    "name": "ipython",
    "version": 3
   },
   "file_extension": ".py",
   "mimetype": "text/x-python",
   "name": "python",
   "nbconvert_exporter": "python",
   "pygments_lexer": "ipython3",
   "version": "3.9.12"
  }
 },
 "nbformat": 4,
 "nbformat_minor": 2
}
