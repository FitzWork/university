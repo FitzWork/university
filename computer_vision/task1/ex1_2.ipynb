{
 "cells": [
  {
   "cell_type": "markdown",
   "metadata": {},
   "source": [
    "# Aufgabe 2: Maximum und Minimum finden\n",
    "Bei einfachen Verfahren zur Bildverarbeitung wird auf jedem Bildpunkt ein einzelner Verarbeitungsschritt ausgeführt. Auch die Suche nach dem maximalen und minimalen Grauwert eines Bildes kann als ein solches Verfahren aufgefasst werden.\n",
    "\n",
    "Programmieren Sie ein Verfahren, das *jedes* Pixel eines Bildes betrachtet und dabei Maximum und Minimum eines Bildes bestimmt!\n",
    "Geben Sie die jeweiligen Koordinaten und deren Grauwerte aus! Markieren Sie diese Punkte gegenbenenfalls im Bild!\n",
    "Im Ordner `Bilder` finden Sie einige Beispielbilder. Testen Sie Ihre Routinen mit diesen Bildern!\n",
    "\n",
    "Welche alternativen Vorgehensweisen wären zur Realisierung dieser Funktionalität denkbar?"
   ]
  },
  {
   "cell_type": "markdown",
   "metadata": {},
   "source": [
    "## 0. Pfade, Pakete etc."
   ]
  },
  {
   "cell_type": "code",
   "execution_count": null,
   "metadata": {},
   "outputs": [],
   "source": [
    "import glob\n",
    "import urllib.request\n",
    "\n",
    "%matplotlib inline\n",
    "import matplotlib.pyplot as plt\n",
    "\n",
    "import imageio\n",
    "import numpy as np"
   ]
  },
  {
   "cell_type": "markdown",
   "metadata": {},
   "source": [
    "Bitte ändern Sie die untenstehende Zeile nicht! Zur Korrektur müssen die Dateien über diesen Pfad erreichbar sein."
   ]
  },
  {
   "cell_type": "code",
   "execution_count": null,
   "metadata": {},
   "outputs": [],
   "source": [
    "image_filter = 'Bilder/*.jpg'"
   ]
  },
  {
   "cell_type": "markdown",
   "metadata": {},
   "source": [
    "## 1. Laden der Bilder\n",
    "Diesmal sollen mehrere Bilder geladen werden. Zum Auffinden der Bilder soll der oben angegebene Filter `image_filter` eingesetzt werden. Das Paket `glob` hilft dabei, alle Pfade zu ermitteln, die zum Filter passen. Anschließend können die Bilder einzeln durch `imageio` eingelesen werden. Zum Schluss sollten sich alle Bild in einer Liste `images` befinden."
   ]
  },
  {
   "cell_type": "code",
   "execution_count": null,
   "metadata": {
    "scrolled": true
   },
   "outputs": [],
   "source": [
    "images = [imageio.imread(image) for image in glob.glob(image_filter)]"
   ]
  },
  {
   "cell_type": "markdown",
   "metadata": {},
   "source": [
    "## 2. Bestimmen von Maximum und Minimum\n",
    "Definieren Sie eine Funktion `ex1_min_max`, die ein Bild übergeben bekommt. Die Funktion soll den maximalen und den minimalen Grauwert sowie die jeweiligen Koordinaten zurückgeben. Gehen Sie dazu Pixel für Pixel durch das Bild und geben Sie anschließend alle Werte als Tupel zurück."
   ]
  },
  {
   "cell_type": "code",
   "execution_count": null,
   "metadata": {},
   "outputs": [],
   "source": [
    "def ex1_min_max(image):\n",
    "    image_min = np.min(image)\n",
    "    image_max = np.max(image)\n",
    "    \n",
    "    image_min_y, image_min_x = divmod(image.argmin(), image.shape[1])\n",
    "    image_max_y, image_max_x = divmod(image.argmax(), image.shape[1])\n",
    "            \n",
    "    return image_min, image_min_x, image_min_y, image_max, image_max_x, image_max_y"
   ]
  },
  {
   "cell_type": "markdown",
   "metadata": {},
   "source": [
    "## 3. Darstellen des Bildes"
   ]
  },
  {
   "cell_type": "markdown",
   "metadata": {},
   "source": [
    "Wählen Sie eines der Bilder aus der Liste `images` zufällig aus. Verwenden Sie dazu eine Funktion aus dem Paket `numpy`."
   ]
  },
  {
   "cell_type": "code",
   "execution_count": null,
   "metadata": {
    "scrolled": false
   },
   "outputs": [],
   "source": [
    "image = images[np.random.randint(len(images))]"
   ]
  },
  {
   "cell_type": "markdown",
   "metadata": {},
   "source": [
    "Funktion zur Ermittlung von Maximum und Minimum verwenden:"
   ]
  },
  {
   "cell_type": "code",
   "execution_count": null,
   "metadata": {},
   "outputs": [],
   "source": [
    "image_min, image_min_x, image_min_y, image_max, image_max_x, image_max_y = ex1_min_max(image)"
   ]
  },
  {
   "cell_type": "markdown",
   "metadata": {},
   "source": [
    "Geben Sie Maximum und Minimum schön formatiert aus, indem Sie String-Interpolation verwenden."
   ]
  },
  {
   "cell_type": "code",
   "execution_count": null,
   "metadata": {},
   "outputs": [],
   "source": [
    "print(\"Der dunkeste (blau markiert) Graustufe ({}) ist an der Stelle ({},{}).\\nDie hellste (weiß markiert) Graustufe ({}) ist an der Stelle ({},{}).\".format(image_min, image_min_x, image_min_y, image_max, image_max_x, image_max_y))"
   ]
  },
  {
   "cell_type": "markdown",
   "metadata": {},
   "source": [
    "Verwenden Sie `matplotlib.pyplot`, um das Bild anzuzeigen. Zeichnen Sie außerdem die Position von Minimum und Maximum ein."
   ]
  },
  {
   "cell_type": "code",
   "execution_count": null,
   "metadata": {
    "scrolled": false
   },
   "outputs": [],
   "source": [
    "plt.imshow(image)\n",
    "plt.plot(image_min_x, image_min_y, color='blue', marker='x')\n",
    "plt.plot(image_max_x, image_max_y, color='white', marker='x')\n",
    "plt.show()"
   ]
  }
 ],
 "metadata": {
  "kernelspec": {
   "display_name": "Python 3.10.8 ('venv': venv)",
   "language": "python",
   "name": "python3"
  },
  "language_info": {
   "codemirror_mode": {
    "name": "ipython",
    "version": 3
   },
   "file_extension": ".py",
   "mimetype": "text/x-python",
   "name": "python",
   "nbconvert_exporter": "python",
   "pygments_lexer": "ipython3",
   "version": "3.10.8"
  },
  "vscode": {
   "interpreter": {
    "hash": "850fc2065b1f836188b68ddbe85307aa686ce2d293b6c2c9ab6fb88911197b67"
   }
  }
 },
 "nbformat": 4,
 "nbformat_minor": 2
}
